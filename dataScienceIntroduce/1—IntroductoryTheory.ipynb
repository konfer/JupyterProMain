{
 "cells": [
  {
   "cell_type": "markdown",
   "metadata": {},
   "source": [
    "# 1.analyse the users"
   ]
  },
  {
   "cell_type": "code",
   "execution_count": 18,
   "metadata": {},
   "outputs": [],
   "source": [
    "users = [    { \"id\": 0, \"name\": \"Hero\" },  \n",
    "             { \"id\": 1, \"name\": \"Dunn\" },    \n",
    "             { \"id\": 2, \"name\": \"Sue\" },     \n",
    "             { \"id\": 3, \"name\": \"Chi\" },    \n",
    "             { \"id\": 4, \"name\": \"Thor\" },    \n",
    "             { \"id\": 5, \"name\": \"Clive\" },   \n",
    "             { \"id\": 6, \"name\": \"Hicks\" },   \n",
    "             { \"id\": 7, \"name\": \"Devin\" },   \n",
    "             { \"id\": 8, \"name\": \"Kate\" },   \n",
    "             { \"id\": 9, \"name\": \"Klein\" }]\n",
    "    "
   ]
  },
  {
   "cell_type": "code",
   "execution_count": 19,
   "metadata": {},
   "outputs": [],
   "source": [
    "friendships = [(0, 1), (0, 2), (1, 2), (1, 3),\n",
    "               (2, 3), (3, 4), (4, 5), (5, 6),\n",
    "               (5, 7), (6, 8), (7, 8), (8, 9)]"
   ]
  },
  {
   "cell_type": "code",
   "execution_count": 20,
   "metadata": {},
   "outputs": [],
   "source": [
    "for user in users:\n",
    "    user[\"friends\"]=[]"
   ]
  },
  {
   "cell_type": "code",
   "execution_count": 21,
   "metadata": {
    "scrolled": true
   },
   "outputs": [
    {
     "data": {
      "text/plain": [
       "[{'friends': [], 'id': 0, 'name': 'Hero'},\n",
       " {'friends': [], 'id': 1, 'name': 'Dunn'},\n",
       " {'friends': [], 'id': 2, 'name': 'Sue'},\n",
       " {'friends': [], 'id': 3, 'name': 'Chi'},\n",
       " {'friends': [], 'id': 4, 'name': 'Thor'},\n",
       " {'friends': [], 'id': 5, 'name': 'Clive'},\n",
       " {'friends': [], 'id': 6, 'name': 'Hicks'},\n",
       " {'friends': [], 'id': 7, 'name': 'Devin'},\n",
       " {'friends': [], 'id': 8, 'name': 'Kate'},\n",
       " {'friends': [], 'id': 9, 'name': 'Klein'}]"
      ]
     },
     "execution_count": 21,
     "metadata": {},
     "output_type": "execute_result"
    }
   ],
   "source": [
    "users"
   ]
  },
  {
   "cell_type": "markdown",
   "metadata": {},
   "source": [
    "### build the relation between Users"
   ]
  },
  {
   "cell_type": "code",
   "execution_count": 22,
   "metadata": {},
   "outputs": [],
   "source": [
    "for i,j in friendships:\n",
    "    users[i][\"friends\"].append(users[j])\n",
    "    users[j][\"friends\"].append(users[i])"
   ]
  },
  {
   "cell_type": "markdown",
   "metadata": {},
   "source": [
    "### count the num of relations"
   ]
  },
  {
   "cell_type": "code",
   "execution_count": 23,
   "metadata": {},
   "outputs": [],
   "source": [
    "def number_of_friends(user):\n",
    "    \"\"\"how many friends does _user_have?\"\"\"\n",
    "    num=len(user[\"friends\"])\n",
    "    numStr=\"the num of \"+str(user[\"id\"])+\" is \"+str(num)\n",
    "    print(numStr)\n",
    "    return num\n"
   ]
  },
  {
   "cell_type": "code",
   "execution_count": 24,
   "metadata": {
    "scrolled": true
   },
   "outputs": [
    {
     "name": "stdout",
     "output_type": "stream",
     "text": [
      "the num of 0 is 2\n",
      "the num of 1 is 3\n",
      "the num of 2 is 3\n",
      "the num of 3 is 3\n",
      "the num of 4 is 2\n",
      "the num of 5 is 3\n",
      "the num of 6 is 2\n",
      "the num of 7 is 2\n",
      "the num of 8 is 3\n",
      "the num of 9 is 1\n"
     ]
    }
   ],
   "source": [
    "total_connections=sum(number_of_friends(user)\n",
    "                      for user in users)"
   ]
  },
  {
   "cell_type": "code",
   "execution_count": 25,
   "metadata": {},
   "outputs": [],
   "source": [
    "from __future__ import division\n",
    "num_users=len(users)\n",
    "avg_connections=total_connections/num_users"
   ]
  },
  {
   "cell_type": "markdown",
   "metadata": {},
   "source": [
    "## sort the user by the num of friends"
   ]
  },
  {
   "cell_type": "markdown",
   "metadata": {},
   "source": [
    "### build the list for sort"
   ]
  },
  {
   "cell_type": "code",
   "execution_count": 26,
   "metadata": {},
   "outputs": [
    {
     "name": "stdout",
     "output_type": "stream",
     "text": [
      "the num of 0 is 2\n",
      "the num of 1 is 3\n",
      "the num of 2 is 3\n",
      "the num of 3 is 3\n",
      "the num of 4 is 2\n",
      "the num of 5 is 3\n",
      "the num of 6 is 2\n",
      "the num of 7 is 2\n",
      "the num of 8 is 3\n",
      "the num of 9 is 1\n"
     ]
    }
   ],
   "source": [
    "num_friends_by_id=[(user[\"id\"],number_of_friends(user))\n",
    "                    for user in users]"
   ]
  },
  {
   "cell_type": "markdown",
   "metadata": {},
   "source": [
    "### sort the list by the lambda function"
   ]
  },
  {
   "cell_type": "code",
   "execution_count": 27,
   "metadata": {
    "scrolled": true
   },
   "outputs": [
    {
     "data": {
      "text/plain": [
       "[(1, 3),\n",
       " (2, 3),\n",
       " (3, 3),\n",
       " (5, 3),\n",
       " (8, 3),\n",
       " (0, 2),\n",
       " (4, 2),\n",
       " (6, 2),\n",
       " (7, 2),\n",
       " (9, 1)]"
      ]
     },
     "execution_count": 27,
     "metadata": {},
     "output_type": "execute_result"
    }
   ],
   "source": [
    "sorted(num_friends_by_id,\n",
    "       key=lambda num_friends_by_id:num_friends_by_id[1],\n",
    "       reverse=True)"
   ]
  },
  {
   "cell_type": "markdown",
   "metadata": {},
   "source": [
    "# 2 find the data-scienst"
   ]
  },
  {
   "cell_type": "code",
   "execution_count": 30,
   "metadata": {},
   "outputs": [],
   "source": [
    "def friends_of_friend_ids_bad(user):\n",
    "    return [foaf[\"id\"]\n",
    "            for friend in user[\"friends\"]\n",
    "            for foaf in friend[\"friends\"]\n",
    "           ]"
   ]
  },
  {
   "cell_type": "code",
   "execution_count": 31,
   "metadata": {},
   "outputs": [
    {
     "data": {
      "text/plain": [
       "[0, 2, 3, 0, 1, 3]"
      ]
     },
     "execution_count": 31,
     "metadata": {},
     "output_type": "execute_result"
    }
   ],
   "source": [
    "friends_of_friend_ids_bad(users[0])"
   ]
  },
  {
   "cell_type": "code",
   "execution_count": null,
   "metadata": {},
   "outputs": [],
   "source": []
  },
  {
   "cell_type": "code",
   "execution_count": null,
   "metadata": {},
   "outputs": [],
   "source": []
  },
  {
   "cell_type": "code",
   "execution_count": null,
   "metadata": {},
   "outputs": [],
   "source": []
  },
  {
   "cell_type": "code",
   "execution_count": null,
   "metadata": {},
   "outputs": [],
   "source": []
  }
 ],
 "metadata": {
  "kernelspec": {
   "display_name": "Python 3",
   "language": "python",
   "name": "python3"
  },
  "language_info": {
   "codemirror_mode": {
    "name": "ipython",
    "version": 3
   },
   "file_extension": ".py",
   "mimetype": "text/x-python",
   "name": "python",
   "nbconvert_exporter": "python",
   "pygments_lexer": "ipython3",
   "version": "3.5.2"
  }
 },
 "nbformat": 4,
 "nbformat_minor": 2
}
