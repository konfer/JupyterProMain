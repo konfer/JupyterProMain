{
 "cells": [
  {
   "cell_type": "code",
   "execution_count": 1,
   "metadata": {
    "scrolled": false
   },
   "outputs": [
    {
     "name": "stdout",
     "output_type": "stream",
     "text": [
      "The Zen of Python, by Tim Peters\n",
      "\n",
      "Beautiful is better than ugly.\n",
      "Explicit is better than implicit.\n",
      "Simple is better than complex.\n",
      "Complex is better than complicated.\n",
      "Flat is better than nested.\n",
      "Sparse is better than dense.\n",
      "Readability counts.\n",
      "Special cases aren't special enough to break the rules.\n",
      "Although practicality beats purity.\n",
      "Errors should never pass silently.\n",
      "Unless explicitly silenced.\n",
      "In the face of ambiguity, refuse the temptation to guess.\n",
      "There should be one-- and preferably only one --obvious way to do it.\n",
      "Although that way may not be obvious at first unless you're Dutch.\n",
      "Now is better than never.\n",
      "Although never is often better than *right* now.\n",
      "If the implementation is hard to explain, it's a bad idea.\n",
      "If the implementation is easy to explain, it may be a good idea.\n",
      "Namespaces are one honking great idea -- let's do more of those!\n"
     ]
    }
   ],
   "source": [
    "import this\n"
   ]
  },
  {
   "cell_type": "markdown",
   "metadata": {},
   "source": [
    "# 1 sorted"
   ]
  },
  {
   "cell_type": "code",
   "execution_count": 2,
   "metadata": {},
   "outputs": [],
   "source": [
    "x=[4,1,2,5]"
   ]
  },
  {
   "cell_type": "markdown",
   "metadata": {},
   "source": [
    "### copy a sorted list"
   ]
  },
  {
   "cell_type": "code",
   "execution_count": 3,
   "metadata": {},
   "outputs": [],
   "source": [
    "y=sorted(x)"
   ]
  },
  {
   "cell_type": "code",
   "execution_count": 4,
   "metadata": {},
   "outputs": [
    {
     "data": {
      "text/plain": [
       "[1, 2, 4, 5]"
      ]
     },
     "execution_count": 4,
     "metadata": {},
     "output_type": "execute_result"
    }
   ],
   "source": [
    "y"
   ]
  },
  {
   "cell_type": "code",
   "execution_count": 5,
   "metadata": {},
   "outputs": [
    {
     "data": {
      "text/plain": [
       "[4, 1, 2, 5]"
      ]
     },
     "execution_count": 5,
     "metadata": {},
     "output_type": "execute_result"
    }
   ],
   "source": [
    "x"
   ]
  },
  {
   "cell_type": "markdown",
   "metadata": {},
   "source": [
    "### list sorted and changed"
   ]
  },
  {
   "cell_type": "code",
   "execution_count": 7,
   "metadata": {},
   "outputs": [],
   "source": [
    "x.sort()"
   ]
  },
  {
   "cell_type": "code",
   "execution_count": 8,
   "metadata": {},
   "outputs": [
    {
     "data": {
      "text/plain": [
       "[1, 2, 4, 5]"
      ]
     },
     "execution_count": 8,
     "metadata": {},
     "output_type": "execute_result"
    }
   ],
   "source": [
    "x"
   ]
  },
  {
   "cell_type": "code",
   "execution_count": 10,
   "metadata": {},
   "outputs": [],
   "source": [
    "x=sorted([4,1,5,3],key=abs,reverse=True)"
   ]
  },
  {
   "cell_type": "code",
   "execution_count": 11,
   "metadata": {},
   "outputs": [
    {
     "data": {
      "text/plain": [
       "[5, 4, 3, 1]"
      ]
     },
     "execution_count": 11,
     "metadata": {},
     "output_type": "execute_result"
    }
   ],
   "source": [
    "x"
   ]
  },
  {
   "cell_type": "code",
   "execution_count": 15,
   "metadata": {},
   "outputs": [],
   "source": [
    "interests = [     (0, \"Hadoop\"), (0, \"Big Data\"), (0, \"HBase\"), (0, \"Java\"),     (0, \"Spark\"), (0, \"Storm\"), (0, \"Cassandra\"),     (1, \"NoSQL\"), (1, \"MongoDB\"), (1, \"Cassandra\"), (1, \"HBase\"),     (1, \"Postgres\"), (2, \"Python\"), (2, \"scikit-learn\"), (2, \"scipy\"),     (2, \"numpy\"), (2, \"statsmodels\"), (2, \"pandas\"), (3, \"R\"), (3, \"Python\"),     (3, \"statistics\"), (3, \"regression\"), (3, \"probability\"),     (4, \"machine learning\"), (4, \"regression\"), (4, \"decision trees\"),     (4, \"libsvm\"), (5, \"Python\"), (5, \"R\"), (5, \"Java\"), (5, \"C++\"),     (5, \"Haskell\"), (5, \"programming languages\"), (6, \"statistics\"),     (6, \"probability\"), (6, \"mathematics\"), (6, \"theory\"),     (7, \"machine learning\"), (7, \"scikit-learn\"), (7, \"Mahout\"),     (7, \"neural networks\"), (8, \"neural networks\"), (8, \"deep learning\"),     (8, \"Big Data\"), (8, \"artificial intelligence\"), (9, \"Hadoop\"),     (9, \"Java\"), (9, \"MapReduce\"), (9, \"Big Data\")]"
   ]
  },
  {
   "cell_type": "code",
   "execution_count": 17,
   "metadata": {},
   "outputs": [
    {
     "data": {
      "text/plain": [
       "[(0, 'Hadoop'),\n",
       " (0, 'Big Data'),\n",
       " (0, 'HBase'),\n",
       " (0, 'Java'),\n",
       " (0, 'Spark'),\n",
       " (0, 'Storm'),\n",
       " (0, 'Cassandra'),\n",
       " (1, 'NoSQL'),\n",
       " (1, 'MongoDB'),\n",
       " (1, 'Cassandra'),\n",
       " (1, 'HBase'),\n",
       " (1, 'Postgres'),\n",
       " (2, 'Python'),\n",
       " (2, 'scikit-learn'),\n",
       " (2, 'scipy'),\n",
       " (2, 'numpy'),\n",
       " (2, 'statsmodels'),\n",
       " (2, 'pandas'),\n",
       " (3, 'R'),\n",
       " (3, 'Python'),\n",
       " (3, 'statistics'),\n",
       " (3, 'regression'),\n",
       " (3, 'probability'),\n",
       " (4, 'machine learning'),\n",
       " (4, 'regression'),\n",
       " (4, 'decision trees'),\n",
       " (4, 'libsvm'),\n",
       " (5, 'Python'),\n",
       " (5, 'R'),\n",
       " (5, 'Java'),\n",
       " (5, 'C++'),\n",
       " (5, 'Haskell'),\n",
       " (5, 'programming languages'),\n",
       " (6, 'statistics'),\n",
       " (6, 'probability'),\n",
       " (6, 'mathematics'),\n",
       " (6, 'theory'),\n",
       " (7, 'machine learning'),\n",
       " (7, 'scikit-learn'),\n",
       " (7, 'Mahout'),\n",
       " (7, 'neural networks'),\n",
       " (8, 'neural networks'),\n",
       " (8, 'deep learning'),\n",
       " (8, 'Big Data'),\n",
       " (8, 'artificial intelligence'),\n",
       " (9, 'Hadoop'),\n",
       " (9, 'Java'),\n",
       " (9, 'MapReduce'),\n",
       " (9, 'Big Data')]"
      ]
     },
     "execution_count": 17,
     "metadata": {},
     "output_type": "execute_result"
    }
   ],
   "source": [
    "interests"
   ]
  },
  {
   "cell_type": "code",
   "execution_count": 20,
   "metadata": {},
   "outputs": [],
   "source": [
    "sort_interests=sorted(interests,\n",
    "                     key=lambda interests:interests[0],\n",
    "                     reverse=True)"
   ]
  },
  {
   "cell_type": "code",
   "execution_count": 21,
   "metadata": {
    "scrolled": true
   },
   "outputs": [
    {
     "data": {
      "text/plain": [
       "[(9, 'Hadoop'),\n",
       " (9, 'Java'),\n",
       " (9, 'MapReduce'),\n",
       " (9, 'Big Data'),\n",
       " (8, 'neural networks'),\n",
       " (8, 'deep learning'),\n",
       " (8, 'Big Data'),\n",
       " (8, 'artificial intelligence'),\n",
       " (7, 'machine learning'),\n",
       " (7, 'scikit-learn'),\n",
       " (7, 'Mahout'),\n",
       " (7, 'neural networks'),\n",
       " (6, 'statistics'),\n",
       " (6, 'probability'),\n",
       " (6, 'mathematics'),\n",
       " (6, 'theory'),\n",
       " (5, 'Python'),\n",
       " (5, 'R'),\n",
       " (5, 'Java'),\n",
       " (5, 'C++'),\n",
       " (5, 'Haskell'),\n",
       " (5, 'programming languages'),\n",
       " (4, 'machine learning'),\n",
       " (4, 'regression'),\n",
       " (4, 'decision trees'),\n",
       " (4, 'libsvm'),\n",
       " (3, 'R'),\n",
       " (3, 'Python'),\n",
       " (3, 'statistics'),\n",
       " (3, 'regression'),\n",
       " (3, 'probability'),\n",
       " (2, 'Python'),\n",
       " (2, 'scikit-learn'),\n",
       " (2, 'scipy'),\n",
       " (2, 'numpy'),\n",
       " (2, 'statsmodels'),\n",
       " (2, 'pandas'),\n",
       " (1, 'NoSQL'),\n",
       " (1, 'MongoDB'),\n",
       " (1, 'Cassandra'),\n",
       " (1, 'HBase'),\n",
       " (1, 'Postgres'),\n",
       " (0, 'Hadoop'),\n",
       " (0, 'Big Data'),\n",
       " (0, 'HBase'),\n",
       " (0, 'Java'),\n",
       " (0, 'Spark'),\n",
       " (0, 'Storm'),\n",
       " (0, 'Cassandra')]"
      ]
     },
     "execution_count": 21,
     "metadata": {},
     "output_type": "execute_result"
    }
   ],
   "source": [
    "sort_interests"
   ]
  },
  {
   "cell_type": "markdown",
   "metadata": {},
   "source": [
    "# 2 list comprehension"
   ]
  },
  {
   "cell_type": "code",
   "execution_count": 22,
   "metadata": {},
   "outputs": [],
   "source": [
    "even_numbers=[x for x in range(5)\n",
    "              if x%2==0]"
   ]
  },
  {
   "cell_type": "code",
   "execution_count": 23,
   "metadata": {},
   "outputs": [
    {
     "data": {
      "text/plain": [
       "[0, 2, 4]"
      ]
     },
     "execution_count": 23,
     "metadata": {},
     "output_type": "execute_result"
    }
   ],
   "source": [
    "even_numbers"
   ]
  },
  {
   "cell_type": "code",
   "execution_count": 24,
   "metadata": {},
   "outputs": [],
   "source": [
    "squre_dict={x:x*x for x in range(5)}"
   ]
  },
  {
   "cell_type": "code",
   "execution_count": 25,
   "metadata": {},
   "outputs": [
    {
     "data": {
      "text/plain": [
       "{0: 0, 1: 1, 2: 4, 3: 9, 4: 16}"
      ]
     },
     "execution_count": 25,
     "metadata": {},
     "output_type": "execute_result"
    }
   ],
   "source": [
    "squre_dict"
   ]
  },
  {
   "cell_type": "markdown",
   "metadata": {},
   "source": [
    "### trans your list with the element of \"0\""
   ]
  },
  {
   "cell_type": "code",
   "execution_count": 33,
   "metadata": {},
   "outputs": [],
   "source": [
    "zeros=[0 for _ in even_numbers]"
   ]
  },
  {
   "cell_type": "code",
   "execution_count": 34,
   "metadata": {},
   "outputs": [
    {
     "data": {
      "text/plain": [
       "[0, 0, 0]"
      ]
     },
     "execution_count": 34,
     "metadata": {},
     "output_type": "execute_result"
    }
   ],
   "source": [
    "zeros"
   ]
  },
  {
   "cell_type": "code",
   "execution_count": 35,
   "metadata": {},
   "outputs": [],
   "source": [
    "increasing_pairs=[(x,y)\n",
    "                   for x in range(10)\n",
    "                   for y in range(x+1,10)]"
   ]
  },
  {
   "cell_type": "code",
   "execution_count": 36,
   "metadata": {},
   "outputs": [
    {
     "data": {
      "text/plain": [
       "[(0, 1),\n",
       " (0, 2),\n",
       " (0, 3),\n",
       " (0, 4),\n",
       " (0, 5),\n",
       " (0, 6),\n",
       " (0, 7),\n",
       " (0, 8),\n",
       " (0, 9),\n",
       " (1, 2),\n",
       " (1, 3),\n",
       " (1, 4),\n",
       " (1, 5),\n",
       " (1, 6),\n",
       " (1, 7),\n",
       " (1, 8),\n",
       " (1, 9),\n",
       " (2, 3),\n",
       " (2, 4),\n",
       " (2, 5),\n",
       " (2, 6),\n",
       " (2, 7),\n",
       " (2, 8),\n",
       " (2, 9),\n",
       " (3, 4),\n",
       " (3, 5),\n",
       " (3, 6),\n",
       " (3, 7),\n",
       " (3, 8),\n",
       " (3, 9),\n",
       " (4, 5),\n",
       " (4, 6),\n",
       " (4, 7),\n",
       " (4, 8),\n",
       " (4, 9),\n",
       " (5, 6),\n",
       " (5, 7),\n",
       " (5, 8),\n",
       " (5, 9),\n",
       " (6, 7),\n",
       " (6, 8),\n",
       " (6, 9),\n",
       " (7, 8),\n",
       " (7, 9),\n",
       " (8, 9)]"
      ]
     },
     "execution_count": 36,
     "metadata": {},
     "output_type": "execute_result"
    }
   ],
   "source": [
    "increasing_pairs"
   ]
  },
  {
   "cell_type": "markdown",
   "metadata": {},
   "source": [
    "# 3 Generator and iterator"
   ]
  },
  {
   "cell_type": "code",
   "execution_count": null,
   "metadata": {},
   "outputs": [],
   "source": []
  },
  {
   "cell_type": "code",
   "execution_count": null,
   "metadata": {},
   "outputs": [],
   "source": []
  },
  {
   "cell_type": "code",
   "execution_count": null,
   "metadata": {},
   "outputs": [],
   "source": []
  },
  {
   "cell_type": "code",
   "execution_count": null,
   "metadata": {},
   "outputs": [],
   "source": []
  },
  {
   "cell_type": "code",
   "execution_count": null,
   "metadata": {},
   "outputs": [],
   "source": []
  },
  {
   "cell_type": "code",
   "execution_count": null,
   "metadata": {},
   "outputs": [],
   "source": []
  },
  {
   "cell_type": "code",
   "execution_count": null,
   "metadata": {},
   "outputs": [],
   "source": []
  },
  {
   "cell_type": "code",
   "execution_count": null,
   "metadata": {},
   "outputs": [],
   "source": []
  },
  {
   "cell_type": "code",
   "execution_count": null,
   "metadata": {},
   "outputs": [],
   "source": []
  },
  {
   "cell_type": "code",
   "execution_count": null,
   "metadata": {},
   "outputs": [],
   "source": []
  },
  {
   "cell_type": "code",
   "execution_count": null,
   "metadata": {},
   "outputs": [],
   "source": []
  },
  {
   "cell_type": "code",
   "execution_count": null,
   "metadata": {},
   "outputs": [],
   "source": []
  },
  {
   "cell_type": "code",
   "execution_count": null,
   "metadata": {},
   "outputs": [],
   "source": []
  },
  {
   "cell_type": "code",
   "execution_count": null,
   "metadata": {},
   "outputs": [],
   "source": []
  },
  {
   "cell_type": "code",
   "execution_count": null,
   "metadata": {},
   "outputs": [],
   "source": []
  }
 ],
 "metadata": {
  "kernelspec": {
   "display_name": "Python 3",
   "language": "python",
   "name": "python3"
  },
  "language_info": {
   "codemirror_mode": {
    "name": "ipython",
    "version": 3
   },
   "file_extension": ".py",
   "mimetype": "text/x-python",
   "name": "python",
   "nbconvert_exporter": "python",
   "pygments_lexer": "ipython3",
   "version": "3.5.2"
  }
 },
 "nbformat": 4,
 "nbformat_minor": 2
}
