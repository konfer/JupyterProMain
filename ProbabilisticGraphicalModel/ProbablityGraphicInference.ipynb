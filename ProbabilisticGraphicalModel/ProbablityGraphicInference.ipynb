{
 "cells": [
  {
   "cell_type": "markdown",
   "metadata": {},
   "source": [
    " \n",
    " \n",
    " "
   ]
  },
  {
   "cell_type": "code",
   "execution_count": 1,
   "metadata": {},
   "outputs": [],
   "source": [
    "prior <- c(working = 0.99,broken = 0.11)"
   ]
  },
  {
   "cell_type": "code",
   "execution_count": 2,
   "metadata": {},
   "outputs": [],
   "source": [
    "likelihood <- rbind(\n",
    "    working = c(good=0.99,bad=0.01),\n",
    "    broken = c(good=0.6,bad=0.4)\n",
    "    )"
   ]
  },
  {
   "cell_type": "code",
   "execution_count": 3,
   "metadata": {},
   "outputs": [],
   "source": [
    "data <- c(\"bad\",\"bad\",\"bad\",\"bad\")"
   ]
  },
  {
   "cell_type": "code",
   "execution_count": 5,
   "metadata": {},
   "outputs": [
    {
     "data": {
      "text/html": [
       "<table>\n",
       "<thead><tr><th></th><th scope=col>good</th><th scope=col>bad</th></tr></thead>\n",
       "<tbody>\n",
       "\t<tr><th scope=row>working</th><td>0.99</td><td>0.01</td></tr>\n",
       "\t<tr><th scope=row>broken</th><td>0.60</td><td>0.40</td></tr>\n",
       "</tbody>\n",
       "</table>\n"
      ],
      "text/latex": [
       "\\begin{tabular}{r|ll}\n",
       "  & good & bad\\\\\n",
       "\\hline\n",
       "\tworking & 0.99 & 0.01\\\\\n",
       "\tbroken & 0.60 & 0.40\\\\\n",
       "\\end{tabular}\n"
      ],
      "text/markdown": [
       "\n",
       "| <!--/--> | good | bad | \n",
       "|---|---|\n",
       "| working | 0.99 | 0.01 | \n",
       "| broken | 0.60 | 0.40 | \n",
       "\n",
       "\n"
      ],
      "text/plain": [
       "        good bad \n",
       "working 0.99 0.01\n",
       "broken  0.60 0.40"
      ]
     },
     "metadata": {},
     "output_type": "display_data"
    }
   ],
   "source": [
    "likelihood"
   ]
  },
  {
   "cell_type": "code",
   "execution_count": 6,
   "metadata": {},
   "outputs": [
    {
     "data": {
      "text/html": [
       "<dl class=dl-horizontal>\n",
       "\t<dt>working</dt>\n",
       "\t\t<dd>0.99</dd>\n",
       "\t<dt>broken</dt>\n",
       "\t\t<dd>0.11</dd>\n",
       "</dl>\n"
      ],
      "text/latex": [
       "\\begin{description*}\n",
       "\\item[working] 0.99\n",
       "\\item[broken] 0.11\n",
       "\\end{description*}\n"
      ],
      "text/markdown": [
       "working\n",
       ":   0.99broken\n",
       ":   0.11\n",
       "\n"
      ],
      "text/plain": [
       "working  broken \n",
       "   0.99    0.11 "
      ]
     },
     "metadata": {},
     "output_type": "display_data"
    }
   ],
   "source": [
    "prior"
   ]
  },
  {
   "cell_type": "code",
   "execution_count": null,
   "metadata": {},
   "outputs": [],
   "source": []
  },
  {
   "cell_type": "code",
   "execution_count": null,
   "metadata": {},
   "outputs": [],
   "source": []
  }
 ],
 "metadata": {
  "kernelspec": {
   "display_name": "R",
   "language": "R",
   "name": "ir"
  },
  "language_info": {
   "codemirror_mode": "r",
   "file_extension": ".r",
   "mimetype": "text/x-r-source",
   "name": "R",
   "pygments_lexer": "r",
   "version": "3.2.3"
  }
 },
 "nbformat": 4,
 "nbformat_minor": 2
}
