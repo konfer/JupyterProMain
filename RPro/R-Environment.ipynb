{
 "cells": [
  {
   "cell_type": "code",
   "execution_count": 1,
   "metadata": {},
   "outputs": [],
   "source": [
    "deck <- read.csv(file=\"/usr/local/konfer/jupyterPro/RPro/deck.csv\",header=T,sep=\",\")"
   ]
  },
  {
   "cell_type": "code",
   "execution_count": 2,
   "metadata": {},
   "outputs": [],
   "source": [
    "library(devtools)"
   ]
  },
  {
   "cell_type": "code",
   "execution_count": 3,
   "metadata": {},
   "outputs": [
    {
     "ename": "ERROR",
     "evalue": "Error in eval(expr, envir, enclos): could not find function \"parenvs\"\n",
     "output_type": "error",
     "traceback": [
      "Error in eval(expr, envir, enclos): could not find function \"parenvs\"\nTraceback:\n"
     ]
    }
   ],
   "source": [
    "parenvs(all = TRUE)"
   ]
  },
  {
   "cell_type": "code",
   "execution_count": 4,
   "metadata": {},
   "outputs": [
    {
     "data": {
      "text/plain": [
       "<environment: package:stats>\n",
       "attr(,\"name\")\n",
       "[1] \"package:stats\"\n",
       "attr(,\"path\")\n",
       "[1] \"/usr/lib/R/library/stats\""
      ]
     },
     "metadata": {},
     "output_type": "display_data"
    }
   ],
   "source": [
    "as.environment(\"package:stats\")"
   ]
  },
  {
   "cell_type": "code",
   "execution_count": 5,
   "metadata": {},
   "outputs": [
    {
     "data": {
      "text/plain": [
       "<environment: R_GlobalEnv>"
      ]
     },
     "metadata": {},
     "output_type": "display_data"
    }
   ],
   "source": [
    "globalenv()"
   ]
  },
  {
   "cell_type": "code",
   "execution_count": 6,
   "metadata": {},
   "outputs": [
    {
     "data": {
      "text/plain": [
       "<environment: base>"
      ]
     },
     "metadata": {},
     "output_type": "display_data"
    }
   ],
   "source": [
    "baseenv()"
   ]
  },
  {
   "cell_type": "code",
   "execution_count": 7,
   "metadata": {},
   "outputs": [
    {
     "data": {
      "text/plain": [
       "<environment: R_EmptyEnv>"
      ]
     },
     "metadata": {},
     "output_type": "display_data"
    }
   ],
   "source": [
    "emptyenv()"
   ]
  },
  {
   "cell_type": "code",
   "execution_count": 8,
   "metadata": {},
   "outputs": [
    {
     "ename": "ERROR",
     "evalue": "Error in parent.env(emptyenv()): the empty environment has no parent\n",
     "output_type": "error",
     "traceback": [
      "Error in parent.env(emptyenv()): the empty environment has no parent\nTraceback:\n",
      "1. parent.env(emptyenv())"
     ]
    }
   ],
   "source": [
    "parent.env(emptyenv())"
   ]
  },
  {
   "cell_type": "code",
   "execution_count": 9,
   "metadata": {},
   "outputs": [
    {
     "data": {
      "text/html": [],
      "text/latex": [],
      "text/markdown": [],
      "text/plain": [
       "character(0)"
      ]
     },
     "metadata": {},
     "output_type": "display_data"
    }
   ],
   "source": [
    "ls(emptyenv())"
   ]
  },
  {
   "cell_type": "code",
   "execution_count": 10,
   "metadata": {},
   "outputs": [
    {
     "data": {},
     "metadata": {},
     "output_type": "display_data"
    }
   ],
   "source": [
    "ls.str(emptyenv())"
   ]
  },
  {
   "cell_type": "code",
   "execution_count": 11,
   "metadata": {},
   "outputs": [
    {
     "data": {
      "text/html": [
       "'deck'"
      ],
      "text/latex": [
       "'deck'"
      ],
      "text/markdown": [
       "'deck'"
      ],
      "text/plain": [
       "[1] \"deck\""
      ]
     },
     "metadata": {},
     "output_type": "display_data"
    }
   ],
   "source": [
    "ls(globalenv())"
   ]
  },
  {
   "cell_type": "code",
   "execution_count": 12,
   "metadata": {},
   "outputs": [
    {
     "data": {
      "text/html": [
       "<table>\n",
       "<thead><tr><th scope=col>face</th><th scope=col>suit</th><th scope=col>value</th></tr></thead>\n",
       "<tbody>\n",
       "\t<tr><td>king  </td><td>spades</td><td>13    </td></tr>\n",
       "\t<tr><td>queen </td><td>spades</td><td>12    </td></tr>\n",
       "\t<tr><td>jack  </td><td>spades</td><td>11    </td></tr>\n",
       "</tbody>\n",
       "</table>\n"
      ],
      "text/latex": [
       "\\begin{tabular}{r|lll}\n",
       " face & suit & value\\\\\n",
       "\\hline\n",
       "\t king   & spades & 13    \\\\\n",
       "\t queen  & spades & 12    \\\\\n",
       "\t jack   & spades & 11    \\\\\n",
       "\\end{tabular}\n"
      ],
      "text/markdown": [
       "\n",
       "face | suit | value | \n",
       "|---|---|---|\n",
       "| king   | spades | 13     | \n",
       "| queen  | spades | 12     | \n",
       "| jack   | spades | 11     | \n",
       "\n",
       "\n"
      ],
      "text/plain": [
       "  face  suit   value\n",
       "1 king  spades 13   \n",
       "2 queen spades 12   \n",
       "3 jack  spades 11   "
      ]
     },
     "metadata": {},
     "output_type": "display_data"
    }
   ],
   "source": [
    "head(globalenv()$deck,3)"
   ]
  },
  {
   "cell_type": "code",
   "execution_count": 13,
   "metadata": {},
   "outputs": [],
   "source": [
    "assign(\"new\",\"Hello Global\", envir=globalenv())"
   ]
  },
  {
   "cell_type": "code",
   "execution_count": 14,
   "metadata": {},
   "outputs": [
    {
     "data": {
      "text/html": [
       "'Hello Global'"
      ],
      "text/latex": [
       "'Hello Global'"
      ],
      "text/markdown": [
       "'Hello Global'"
      ],
      "text/plain": [
       "[1] \"Hello Global\""
      ]
     },
     "metadata": {},
     "output_type": "display_data"
    }
   ],
   "source": [
    "globalenv()$new"
   ]
  },
  {
   "cell_type": "code",
   "execution_count": 15,
   "metadata": {},
   "outputs": [
    {
     "data": {
      "text/plain": [
       "<environment: R_GlobalEnv>"
      ]
     },
     "metadata": {},
     "output_type": "display_data"
    }
   ],
   "source": [
    "environment()"
   ]
  },
  {
   "cell_type": "code",
   "execution_count": 16,
   "metadata": {},
   "outputs": [
    {
     "data": {
      "text/html": [
       "'Hello Global'"
      ],
      "text/latex": [
       "'Hello Global'"
      ],
      "text/markdown": [
       "'Hello Global'"
      ],
      "text/plain": [
       "[1] \"Hello Global\""
      ]
     },
     "metadata": {},
     "output_type": "display_data"
    }
   ],
   "source": [
    "new"
   ]
  },
  {
   "cell_type": "code",
   "execution_count": 17,
   "metadata": {},
   "outputs": [],
   "source": [
    "foo <- \"show me your runtime\""
   ]
  },
  {
   "cell_type": "code",
   "execution_count": 18,
   "metadata": {},
   "outputs": [],
   "source": [
    "show_env <- function(x=foo){\n",
    "    list(ran.in=environment(),\n",
    "         parent=parent.env(environment()),\n",
    "         objects=ls.str(environment()))\n",
    "}"
   ]
  },
  {
   "cell_type": "code",
   "execution_count": 19,
   "metadata": {},
   "outputs": [
    {
     "data": {
      "text/plain": [
       "$ran.in\n",
       "<environment: 0x420e1e0>\n",
       "\n",
       "$parent\n",
       "<environment: R_GlobalEnv>\n",
       "\n",
       "$objects\n",
       "x :  chr \"show me your runtime\"\n"
      ]
     },
     "metadata": {},
     "output_type": "display_data"
    }
   ],
   "source": [
    "show_env()"
   ]
  },
  {
   "cell_type": "code",
   "execution_count": 20,
   "metadata": {},
   "outputs": [],
   "source": [
    "deal <- function(){\n",
    "    deck[1,]\n",
    "}"
   ]
  },
  {
   "cell_type": "code",
   "execution_count": 21,
   "metadata": {},
   "outputs": [
    {
     "data": {
      "text/html": [
       "<table>\n",
       "<thead><tr><th scope=col>face</th><th scope=col>suit</th><th scope=col>value</th></tr></thead>\n",
       "<tbody>\n",
       "\t<tr><td>king  </td><td>spades</td><td>13    </td></tr>\n",
       "</tbody>\n",
       "</table>\n"
      ],
      "text/latex": [
       "\\begin{tabular}{r|lll}\n",
       " face & suit & value\\\\\n",
       "\\hline\n",
       "\t king   & spades & 13    \\\\\n",
       "\\end{tabular}\n"
      ],
      "text/markdown": [
       "\n",
       "face | suit | value | \n",
       "|---|\n",
       "| king   | spades | 13     | \n",
       "\n",
       "\n"
      ],
      "text/plain": [
       "  face suit   value\n",
       "1 king spades 13   "
      ]
     },
     "metadata": {},
     "output_type": "display_data"
    }
   ],
   "source": [
    "deal()"
   ]
  },
  {
   "cell_type": "code",
   "execution_count": 22,
   "metadata": {},
   "outputs": [
    {
     "data": {
      "text/plain": [
       "<environment: R_GlobalEnv>"
      ]
     },
     "metadata": {},
     "output_type": "display_data"
    }
   ],
   "source": [
    "environment(deal)"
   ]
  },
  {
   "cell_type": "code",
   "execution_count": 23,
   "metadata": {},
   "outputs": [],
   "source": [
    "DECK <- deck"
   ]
  },
  {
   "cell_type": "code",
   "execution_count": 24,
   "metadata": {},
   "outputs": [
    {
     "data": {
      "text/html": [
       "<table>\n",
       "<thead><tr><th scope=col>face</th><th scope=col>suit</th><th scope=col>value</th></tr></thead>\n",
       "<tbody>\n",
       "\t<tr><td>king    </td><td>spades  </td><td>13      </td></tr>\n",
       "\t<tr><td>queen   </td><td>spades  </td><td>12      </td></tr>\n",
       "\t<tr><td>jack    </td><td>spades  </td><td>11      </td></tr>\n",
       "\t<tr><td>ten     </td><td>spades  </td><td>10      </td></tr>\n",
       "\t<tr><td>nine    </td><td>spades  </td><td> 9      </td></tr>\n",
       "\t<tr><td>eight   </td><td>spades  </td><td> 8      </td></tr>\n",
       "\t<tr><td>seven   </td><td>spades  </td><td> 7      </td></tr>\n",
       "\t<tr><td>six     </td><td>spades  </td><td> 6      </td></tr>\n",
       "\t<tr><td>five    </td><td>spades  </td><td> 5      </td></tr>\n",
       "\t<tr><td>four    </td><td>spades  </td><td> 4      </td></tr>\n",
       "\t<tr><td>three   </td><td>spades  </td><td> 3      </td></tr>\n",
       "\t<tr><td>two     </td><td>spades  </td><td> 2      </td></tr>\n",
       "\t<tr><td>ace     </td><td>spades  </td><td> 1      </td></tr>\n",
       "\t<tr><td>king    </td><td>clubs   </td><td>13      </td></tr>\n",
       "\t<tr><td>queen   </td><td>clubs   </td><td>12      </td></tr>\n",
       "\t<tr><td>jack    </td><td>clubs   </td><td>11      </td></tr>\n",
       "\t<tr><td>ten     </td><td>clubs   </td><td>10      </td></tr>\n",
       "\t<tr><td>nine    </td><td>clubs   </td><td> 9      </td></tr>\n",
       "\t<tr><td>eight   </td><td>clubs   </td><td> 8      </td></tr>\n",
       "\t<tr><td>seven   </td><td>clubs   </td><td> 7      </td></tr>\n",
       "\t<tr><td>six     </td><td>clubs   </td><td> 6      </td></tr>\n",
       "\t<tr><td>five    </td><td>clubs   </td><td> 5      </td></tr>\n",
       "\t<tr><td>four    </td><td>clubs   </td><td> 4      </td></tr>\n",
       "\t<tr><td>three   </td><td>clubs   </td><td> 3      </td></tr>\n",
       "\t<tr><td>two     </td><td>clubs   </td><td> 2      </td></tr>\n",
       "\t<tr><td>ace     </td><td>clubs   </td><td> 1      </td></tr>\n",
       "\t<tr><td>king    </td><td>diamonds</td><td>13      </td></tr>\n",
       "\t<tr><td>queen   </td><td>diamonds</td><td>12      </td></tr>\n",
       "\t<tr><td>jack    </td><td>diamonds</td><td>11      </td></tr>\n",
       "\t<tr><td>ten     </td><td>diamonds</td><td>10      </td></tr>\n",
       "\t<tr><td>nine    </td><td>diamonds</td><td> 9      </td></tr>\n",
       "\t<tr><td>eight   </td><td>diamonds</td><td> 8      </td></tr>\n",
       "\t<tr><td>seven   </td><td>diamonds</td><td> 7      </td></tr>\n",
       "\t<tr><td>six     </td><td>diamonds</td><td> 6      </td></tr>\n",
       "\t<tr><td>five    </td><td>diamonds</td><td> 5      </td></tr>\n",
       "\t<tr><td>four    </td><td>diamonds</td><td> 4      </td></tr>\n",
       "\t<tr><td>three   </td><td>diamonds</td><td> 3      </td></tr>\n",
       "\t<tr><td>two     </td><td>diamonds</td><td> 2      </td></tr>\n",
       "\t<tr><td>ace     </td><td>diamonds</td><td> 1      </td></tr>\n",
       "\t<tr><td>king    </td><td>hearts  </td><td>13      </td></tr>\n",
       "\t<tr><td>queen   </td><td>hearts  </td><td>12      </td></tr>\n",
       "\t<tr><td>jack    </td><td>hearts  </td><td>11      </td></tr>\n",
       "\t<tr><td>ten     </td><td>hearts  </td><td>10      </td></tr>\n",
       "\t<tr><td>nine    </td><td>hearts  </td><td> 9      </td></tr>\n",
       "\t<tr><td>eight   </td><td>hearts  </td><td> 8      </td></tr>\n",
       "\t<tr><td>seven   </td><td>hearts  </td><td> 7      </td></tr>\n",
       "\t<tr><td>six     </td><td>hearts  </td><td> 6      </td></tr>\n",
       "\t<tr><td>five    </td><td>hearts  </td><td> 5      </td></tr>\n",
       "\t<tr><td>four    </td><td>hearts  </td><td> 4      </td></tr>\n",
       "\t<tr><td>three   </td><td>hearts  </td><td> 3      </td></tr>\n",
       "\t<tr><td>two     </td><td>hearts  </td><td> 2      </td></tr>\n",
       "\t<tr><td>ace     </td><td>hearts  </td><td> 1      </td></tr>\n",
       "</tbody>\n",
       "</table>\n"
      ],
      "text/latex": [
       "\\begin{tabular}{r|lll}\n",
       " face & suit & value\\\\\n",
       "\\hline\n",
       "\t king     & spades   & 13      \\\\\n",
       "\t queen    & spades   & 12      \\\\\n",
       "\t jack     & spades   & 11      \\\\\n",
       "\t ten      & spades   & 10      \\\\\n",
       "\t nine     & spades   &  9      \\\\\n",
       "\t eight    & spades   &  8      \\\\\n",
       "\t seven    & spades   &  7      \\\\\n",
       "\t six      & spades   &  6      \\\\\n",
       "\t five     & spades   &  5      \\\\\n",
       "\t four     & spades   &  4      \\\\\n",
       "\t three    & spades   &  3      \\\\\n",
       "\t two      & spades   &  2      \\\\\n",
       "\t ace      & spades   &  1      \\\\\n",
       "\t king     & clubs    & 13      \\\\\n",
       "\t queen    & clubs    & 12      \\\\\n",
       "\t jack     & clubs    & 11      \\\\\n",
       "\t ten      & clubs    & 10      \\\\\n",
       "\t nine     & clubs    &  9      \\\\\n",
       "\t eight    & clubs    &  8      \\\\\n",
       "\t seven    & clubs    &  7      \\\\\n",
       "\t six      & clubs    &  6      \\\\\n",
       "\t five     & clubs    &  5      \\\\\n",
       "\t four     & clubs    &  4      \\\\\n",
       "\t three    & clubs    &  3      \\\\\n",
       "\t two      & clubs    &  2      \\\\\n",
       "\t ace      & clubs    &  1      \\\\\n",
       "\t king     & diamonds & 13      \\\\\n",
       "\t queen    & diamonds & 12      \\\\\n",
       "\t jack     & diamonds & 11      \\\\\n",
       "\t ten      & diamonds & 10      \\\\\n",
       "\t nine     & diamonds &  9      \\\\\n",
       "\t eight    & diamonds &  8      \\\\\n",
       "\t seven    & diamonds &  7      \\\\\n",
       "\t six      & diamonds &  6      \\\\\n",
       "\t five     & diamonds &  5      \\\\\n",
       "\t four     & diamonds &  4      \\\\\n",
       "\t three    & diamonds &  3      \\\\\n",
       "\t two      & diamonds &  2      \\\\\n",
       "\t ace      & diamonds &  1      \\\\\n",
       "\t king     & hearts   & 13      \\\\\n",
       "\t queen    & hearts   & 12      \\\\\n",
       "\t jack     & hearts   & 11      \\\\\n",
       "\t ten      & hearts   & 10      \\\\\n",
       "\t nine     & hearts   &  9      \\\\\n",
       "\t eight    & hearts   &  8      \\\\\n",
       "\t seven    & hearts   &  7      \\\\\n",
       "\t six      & hearts   &  6      \\\\\n",
       "\t five     & hearts   &  5      \\\\\n",
       "\t four     & hearts   &  4      \\\\\n",
       "\t three    & hearts   &  3      \\\\\n",
       "\t two      & hearts   &  2      \\\\\n",
       "\t ace      & hearts   &  1      \\\\\n",
       "\\end{tabular}\n"
      ],
      "text/markdown": [
       "\n",
       "face | suit | value | \n",
       "|---|---|---|---|---|---|---|---|---|---|---|---|---|---|---|---|---|---|---|---|---|---|---|---|---|---|---|---|---|---|---|---|---|---|---|---|---|---|---|---|---|---|---|---|---|---|---|---|---|---|---|---|\n",
       "| king     | spades   | 13       | \n",
       "| queen    | spades   | 12       | \n",
       "| jack     | spades   | 11       | \n",
       "| ten      | spades   | 10       | \n",
       "| nine     | spades   |  9       | \n",
       "| eight    | spades   |  8       | \n",
       "| seven    | spades   |  7       | \n",
       "| six      | spades   |  6       | \n",
       "| five     | spades   |  5       | \n",
       "| four     | spades   |  4       | \n",
       "| three    | spades   |  3       | \n",
       "| two      | spades   |  2       | \n",
       "| ace      | spades   |  1       | \n",
       "| king     | clubs    | 13       | \n",
       "| queen    | clubs    | 12       | \n",
       "| jack     | clubs    | 11       | \n",
       "| ten      | clubs    | 10       | \n",
       "| nine     | clubs    |  9       | \n",
       "| eight    | clubs    |  8       | \n",
       "| seven    | clubs    |  7       | \n",
       "| six      | clubs    |  6       | \n",
       "| five     | clubs    |  5       | \n",
       "| four     | clubs    |  4       | \n",
       "| three    | clubs    |  3       | \n",
       "| two      | clubs    |  2       | \n",
       "| ace      | clubs    |  1       | \n",
       "| king     | diamonds | 13       | \n",
       "| queen    | diamonds | 12       | \n",
       "| jack     | diamonds | 11       | \n",
       "| ten      | diamonds | 10       | \n",
       "| nine     | diamonds |  9       | \n",
       "| eight    | diamonds |  8       | \n",
       "| seven    | diamonds |  7       | \n",
       "| six      | diamonds |  6       | \n",
       "| five     | diamonds |  5       | \n",
       "| four     | diamonds |  4       | \n",
       "| three    | diamonds |  3       | \n",
       "| two      | diamonds |  2       | \n",
       "| ace      | diamonds |  1       | \n",
       "| king     | hearts   | 13       | \n",
       "| queen    | hearts   | 12       | \n",
       "| jack     | hearts   | 11       | \n",
       "| ten      | hearts   | 10       | \n",
       "| nine     | hearts   |  9       | \n",
       "| eight    | hearts   |  8       | \n",
       "| seven    | hearts   |  7       | \n",
       "| six      | hearts   |  6       | \n",
       "| five     | hearts   |  5       | \n",
       "| four     | hearts   |  4       | \n",
       "| three    | hearts   |  3       | \n",
       "| two      | hearts   |  2       | \n",
       "| ace      | hearts   |  1       | \n",
       "\n",
       "\n"
      ],
      "text/plain": [
       "   face  suit     value\n",
       "1  king  spades   13   \n",
       "2  queen spades   12   \n",
       "3  jack  spades   11   \n",
       "4  ten   spades   10   \n",
       "5  nine  spades    9   \n",
       "6  eight spades    8   \n",
       "7  seven spades    7   \n",
       "8  six   spades    6   \n",
       "9  five  spades    5   \n",
       "10 four  spades    4   \n",
       "11 three spades    3   \n",
       "12 two   spades    2   \n",
       "13 ace   spades    1   \n",
       "14 king  clubs    13   \n",
       "15 queen clubs    12   \n",
       "16 jack  clubs    11   \n",
       "17 ten   clubs    10   \n",
       "18 nine  clubs     9   \n",
       "19 eight clubs     8   \n",
       "20 seven clubs     7   \n",
       "21 six   clubs     6   \n",
       "22 five  clubs     5   \n",
       "23 four  clubs     4   \n",
       "24 three clubs     3   \n",
       "25 two   clubs     2   \n",
       "26 ace   clubs     1   \n",
       "27 king  diamonds 13   \n",
       "28 queen diamonds 12   \n",
       "29 jack  diamonds 11   \n",
       "30 ten   diamonds 10   \n",
       "31 nine  diamonds  9   \n",
       "32 eight diamonds  8   \n",
       "33 seven diamonds  7   \n",
       "34 six   diamonds  6   \n",
       "35 five  diamonds  5   \n",
       "36 four  diamonds  4   \n",
       "37 three diamonds  3   \n",
       "38 two   diamonds  2   \n",
       "39 ace   diamonds  1   \n",
       "40 king  hearts   13   \n",
       "41 queen hearts   12   \n",
       "42 jack  hearts   11   \n",
       "43 ten   hearts   10   \n",
       "44 nine  hearts    9   \n",
       "45 eight hearts    8   \n",
       "46 seven hearts    7   \n",
       "47 six   hearts    6   \n",
       "48 five  hearts    5   \n",
       "49 four  hearts    4   \n",
       "50 three hearts    3   \n",
       "51 two   hearts    2   \n",
       "52 ace   hearts    1   "
      ]
     },
     "metadata": {},
     "output_type": "display_data"
    }
   ],
   "source": [
    "DECK"
   ]
  },
  {
   "cell_type": "code",
   "execution_count": 25,
   "metadata": {},
   "outputs": [],
   "source": [
    "deck <- deck[-1,]"
   ]
  },
  {
   "cell_type": "code",
   "execution_count": 26,
   "metadata": {},
   "outputs": [
    {
     "data": {
      "text/html": [
       "<table>\n",
       "<thead><tr><th></th><th scope=col>face</th><th scope=col>suit</th><th scope=col>value</th></tr></thead>\n",
       "<tbody>\n",
       "\t<tr><th scope=row>2</th><td>queen   </td><td>spades  </td><td>12      </td></tr>\n",
       "\t<tr><th scope=row>3</th><td>jack    </td><td>spades  </td><td>11      </td></tr>\n",
       "\t<tr><th scope=row>4</th><td>ten     </td><td>spades  </td><td>10      </td></tr>\n",
       "\t<tr><th scope=row>5</th><td>nine    </td><td>spades  </td><td> 9      </td></tr>\n",
       "\t<tr><th scope=row>6</th><td>eight   </td><td>spades  </td><td> 8      </td></tr>\n",
       "\t<tr><th scope=row>7</th><td>seven   </td><td>spades  </td><td> 7      </td></tr>\n",
       "\t<tr><th scope=row>8</th><td>six     </td><td>spades  </td><td> 6      </td></tr>\n",
       "\t<tr><th scope=row>9</th><td>five    </td><td>spades  </td><td> 5      </td></tr>\n",
       "\t<tr><th scope=row>10</th><td>four    </td><td>spades  </td><td> 4      </td></tr>\n",
       "\t<tr><th scope=row>11</th><td>three   </td><td>spades  </td><td> 3      </td></tr>\n",
       "\t<tr><th scope=row>12</th><td>two     </td><td>spades  </td><td> 2      </td></tr>\n",
       "\t<tr><th scope=row>13</th><td>ace     </td><td>spades  </td><td> 1      </td></tr>\n",
       "\t<tr><th scope=row>14</th><td>king    </td><td>clubs   </td><td>13      </td></tr>\n",
       "\t<tr><th scope=row>15</th><td>queen   </td><td>clubs   </td><td>12      </td></tr>\n",
       "\t<tr><th scope=row>16</th><td>jack    </td><td>clubs   </td><td>11      </td></tr>\n",
       "\t<tr><th scope=row>17</th><td>ten     </td><td>clubs   </td><td>10      </td></tr>\n",
       "\t<tr><th scope=row>18</th><td>nine    </td><td>clubs   </td><td> 9      </td></tr>\n",
       "\t<tr><th scope=row>19</th><td>eight   </td><td>clubs   </td><td> 8      </td></tr>\n",
       "\t<tr><th scope=row>20</th><td>seven   </td><td>clubs   </td><td> 7      </td></tr>\n",
       "\t<tr><th scope=row>21</th><td>six     </td><td>clubs   </td><td> 6      </td></tr>\n",
       "\t<tr><th scope=row>22</th><td>five    </td><td>clubs   </td><td> 5      </td></tr>\n",
       "\t<tr><th scope=row>23</th><td>four    </td><td>clubs   </td><td> 4      </td></tr>\n",
       "\t<tr><th scope=row>24</th><td>three   </td><td>clubs   </td><td> 3      </td></tr>\n",
       "\t<tr><th scope=row>25</th><td>two     </td><td>clubs   </td><td> 2      </td></tr>\n",
       "\t<tr><th scope=row>26</th><td>ace     </td><td>clubs   </td><td> 1      </td></tr>\n",
       "\t<tr><th scope=row>27</th><td>king    </td><td>diamonds</td><td>13      </td></tr>\n",
       "\t<tr><th scope=row>28</th><td>queen   </td><td>diamonds</td><td>12      </td></tr>\n",
       "\t<tr><th scope=row>29</th><td>jack    </td><td>diamonds</td><td>11      </td></tr>\n",
       "\t<tr><th scope=row>30</th><td>ten     </td><td>diamonds</td><td>10      </td></tr>\n",
       "\t<tr><th scope=row>31</th><td>nine    </td><td>diamonds</td><td> 9      </td></tr>\n",
       "\t<tr><th scope=row>32</th><td>eight   </td><td>diamonds</td><td> 8      </td></tr>\n",
       "\t<tr><th scope=row>33</th><td>seven   </td><td>diamonds</td><td> 7      </td></tr>\n",
       "\t<tr><th scope=row>34</th><td>six     </td><td>diamonds</td><td> 6      </td></tr>\n",
       "\t<tr><th scope=row>35</th><td>five    </td><td>diamonds</td><td> 5      </td></tr>\n",
       "\t<tr><th scope=row>36</th><td>four    </td><td>diamonds</td><td> 4      </td></tr>\n",
       "\t<tr><th scope=row>37</th><td>three   </td><td>diamonds</td><td> 3      </td></tr>\n",
       "\t<tr><th scope=row>38</th><td>two     </td><td>diamonds</td><td> 2      </td></tr>\n",
       "\t<tr><th scope=row>39</th><td>ace     </td><td>diamonds</td><td> 1      </td></tr>\n",
       "\t<tr><th scope=row>40</th><td>king    </td><td>hearts  </td><td>13      </td></tr>\n",
       "\t<tr><th scope=row>41</th><td>queen   </td><td>hearts  </td><td>12      </td></tr>\n",
       "\t<tr><th scope=row>42</th><td>jack    </td><td>hearts  </td><td>11      </td></tr>\n",
       "\t<tr><th scope=row>43</th><td>ten     </td><td>hearts  </td><td>10      </td></tr>\n",
       "\t<tr><th scope=row>44</th><td>nine    </td><td>hearts  </td><td> 9      </td></tr>\n",
       "\t<tr><th scope=row>45</th><td>eight   </td><td>hearts  </td><td> 8      </td></tr>\n",
       "\t<tr><th scope=row>46</th><td>seven   </td><td>hearts  </td><td> 7      </td></tr>\n",
       "\t<tr><th scope=row>47</th><td>six     </td><td>hearts  </td><td> 6      </td></tr>\n",
       "\t<tr><th scope=row>48</th><td>five    </td><td>hearts  </td><td> 5      </td></tr>\n",
       "\t<tr><th scope=row>49</th><td>four    </td><td>hearts  </td><td> 4      </td></tr>\n",
       "\t<tr><th scope=row>50</th><td>three   </td><td>hearts  </td><td> 3      </td></tr>\n",
       "\t<tr><th scope=row>51</th><td>two     </td><td>hearts  </td><td> 2      </td></tr>\n",
       "\t<tr><th scope=row>52</th><td>ace     </td><td>hearts  </td><td> 1      </td></tr>\n",
       "</tbody>\n",
       "</table>\n"
      ],
      "text/latex": [
       "\\begin{tabular}{r|lll}\n",
       "  & face & suit & value\\\\\n",
       "\\hline\n",
       "\t2 & queen    & spades   & 12      \\\\\n",
       "\t3 & jack     & spades   & 11      \\\\\n",
       "\t4 & ten      & spades   & 10      \\\\\n",
       "\t5 & nine     & spades   &  9      \\\\\n",
       "\t6 & eight    & spades   &  8      \\\\\n",
       "\t7 & seven    & spades   &  7      \\\\\n",
       "\t8 & six      & spades   &  6      \\\\\n",
       "\t9 & five     & spades   &  5      \\\\\n",
       "\t10 & four     & spades   &  4      \\\\\n",
       "\t11 & three    & spades   &  3      \\\\\n",
       "\t12 & two      & spades   &  2      \\\\\n",
       "\t13 & ace      & spades   &  1      \\\\\n",
       "\t14 & king     & clubs    & 13      \\\\\n",
       "\t15 & queen    & clubs    & 12      \\\\\n",
       "\t16 & jack     & clubs    & 11      \\\\\n",
       "\t17 & ten      & clubs    & 10      \\\\\n",
       "\t18 & nine     & clubs    &  9      \\\\\n",
       "\t19 & eight    & clubs    &  8      \\\\\n",
       "\t20 & seven    & clubs    &  7      \\\\\n",
       "\t21 & six      & clubs    &  6      \\\\\n",
       "\t22 & five     & clubs    &  5      \\\\\n",
       "\t23 & four     & clubs    &  4      \\\\\n",
       "\t24 & three    & clubs    &  3      \\\\\n",
       "\t25 & two      & clubs    &  2      \\\\\n",
       "\t26 & ace      & clubs    &  1      \\\\\n",
       "\t27 & king     & diamonds & 13      \\\\\n",
       "\t28 & queen    & diamonds & 12      \\\\\n",
       "\t29 & jack     & diamonds & 11      \\\\\n",
       "\t30 & ten      & diamonds & 10      \\\\\n",
       "\t31 & nine     & diamonds &  9      \\\\\n",
       "\t32 & eight    & diamonds &  8      \\\\\n",
       "\t33 & seven    & diamonds &  7      \\\\\n",
       "\t34 & six      & diamonds &  6      \\\\\n",
       "\t35 & five     & diamonds &  5      \\\\\n",
       "\t36 & four     & diamonds &  4      \\\\\n",
       "\t37 & three    & diamonds &  3      \\\\\n",
       "\t38 & two      & diamonds &  2      \\\\\n",
       "\t39 & ace      & diamonds &  1      \\\\\n",
       "\t40 & king     & hearts   & 13      \\\\\n",
       "\t41 & queen    & hearts   & 12      \\\\\n",
       "\t42 & jack     & hearts   & 11      \\\\\n",
       "\t43 & ten      & hearts   & 10      \\\\\n",
       "\t44 & nine     & hearts   &  9      \\\\\n",
       "\t45 & eight    & hearts   &  8      \\\\\n",
       "\t46 & seven    & hearts   &  7      \\\\\n",
       "\t47 & six      & hearts   &  6      \\\\\n",
       "\t48 & five     & hearts   &  5      \\\\\n",
       "\t49 & four     & hearts   &  4      \\\\\n",
       "\t50 & three    & hearts   &  3      \\\\\n",
       "\t51 & two      & hearts   &  2      \\\\\n",
       "\t52 & ace      & hearts   &  1      \\\\\n",
       "\\end{tabular}\n"
      ],
      "text/markdown": [
       "\n",
       "| <!--/--> | face | suit | value | \n",
       "|---|---|---|---|---|---|---|---|---|---|---|---|---|---|---|---|---|---|---|---|---|---|---|---|---|---|---|---|---|---|---|---|---|---|---|---|---|---|---|---|---|---|---|---|---|---|---|---|---|---|---|\n",
       "| 2 | queen    | spades   | 12       | \n",
       "| 3 | jack     | spades   | 11       | \n",
       "| 4 | ten      | spades   | 10       | \n",
       "| 5 | nine     | spades   |  9       | \n",
       "| 6 | eight    | spades   |  8       | \n",
       "| 7 | seven    | spades   |  7       | \n",
       "| 8 | six      | spades   |  6       | \n",
       "| 9 | five     | spades   |  5       | \n",
       "| 10 | four     | spades   |  4       | \n",
       "| 11 | three    | spades   |  3       | \n",
       "| 12 | two      | spades   |  2       | \n",
       "| 13 | ace      | spades   |  1       | \n",
       "| 14 | king     | clubs    | 13       | \n",
       "| 15 | queen    | clubs    | 12       | \n",
       "| 16 | jack     | clubs    | 11       | \n",
       "| 17 | ten      | clubs    | 10       | \n",
       "| 18 | nine     | clubs    |  9       | \n",
       "| 19 | eight    | clubs    |  8       | \n",
       "| 20 | seven    | clubs    |  7       | \n",
       "| 21 | six      | clubs    |  6       | \n",
       "| 22 | five     | clubs    |  5       | \n",
       "| 23 | four     | clubs    |  4       | \n",
       "| 24 | three    | clubs    |  3       | \n",
       "| 25 | two      | clubs    |  2       | \n",
       "| 26 | ace      | clubs    |  1       | \n",
       "| 27 | king     | diamonds | 13       | \n",
       "| 28 | queen    | diamonds | 12       | \n",
       "| 29 | jack     | diamonds | 11       | \n",
       "| 30 | ten      | diamonds | 10       | \n",
       "| 31 | nine     | diamonds |  9       | \n",
       "| 32 | eight    | diamonds |  8       | \n",
       "| 33 | seven    | diamonds |  7       | \n",
       "| 34 | six      | diamonds |  6       | \n",
       "| 35 | five     | diamonds |  5       | \n",
       "| 36 | four     | diamonds |  4       | \n",
       "| 37 | three    | diamonds |  3       | \n",
       "| 38 | two      | diamonds |  2       | \n",
       "| 39 | ace      | diamonds |  1       | \n",
       "| 40 | king     | hearts   | 13       | \n",
       "| 41 | queen    | hearts   | 12       | \n",
       "| 42 | jack     | hearts   | 11       | \n",
       "| 43 | ten      | hearts   | 10       | \n",
       "| 44 | nine     | hearts   |  9       | \n",
       "| 45 | eight    | hearts   |  8       | \n",
       "| 46 | seven    | hearts   |  7       | \n",
       "| 47 | six      | hearts   |  6       | \n",
       "| 48 | five     | hearts   |  5       | \n",
       "| 49 | four     | hearts   |  4       | \n",
       "| 50 | three    | hearts   |  3       | \n",
       "| 51 | two      | hearts   |  2       | \n",
       "| 52 | ace      | hearts   |  1       | \n",
       "\n",
       "\n"
      ],
      "text/plain": [
       "   face  suit     value\n",
       "2  queen spades   12   \n",
       "3  jack  spades   11   \n",
       "4  ten   spades   10   \n",
       "5  nine  spades    9   \n",
       "6  eight spades    8   \n",
       "7  seven spades    7   \n",
       "8  six   spades    6   \n",
       "9  five  spades    5   \n",
       "10 four  spades    4   \n",
       "11 three spades    3   \n",
       "12 two   spades    2   \n",
       "13 ace   spades    1   \n",
       "14 king  clubs    13   \n",
       "15 queen clubs    12   \n",
       "16 jack  clubs    11   \n",
       "17 ten   clubs    10   \n",
       "18 nine  clubs     9   \n",
       "19 eight clubs     8   \n",
       "20 seven clubs     7   \n",
       "21 six   clubs     6   \n",
       "22 five  clubs     5   \n",
       "23 four  clubs     4   \n",
       "24 three clubs     3   \n",
       "25 two   clubs     2   \n",
       "26 ace   clubs     1   \n",
       "27 king  diamonds 13   \n",
       "28 queen diamonds 12   \n",
       "29 jack  diamonds 11   \n",
       "30 ten   diamonds 10   \n",
       "31 nine  diamonds  9   \n",
       "32 eight diamonds  8   \n",
       "33 seven diamonds  7   \n",
       "34 six   diamonds  6   \n",
       "35 five  diamonds  5   \n",
       "36 four  diamonds  4   \n",
       "37 three diamonds  3   \n",
       "38 two   diamonds  2   \n",
       "39 ace   diamonds  1   \n",
       "40 king  hearts   13   \n",
       "41 queen hearts   12   \n",
       "42 jack  hearts   11   \n",
       "43 ten   hearts   10   \n",
       "44 nine  hearts    9   \n",
       "45 eight hearts    8   \n",
       "46 seven hearts    7   \n",
       "47 six   hearts    6   \n",
       "48 five  hearts    5   \n",
       "49 four  hearts    4   \n",
       "50 three hearts    3   \n",
       "51 two   hearts    2   \n",
       "52 ace   hearts    1   "
      ]
     },
     "metadata": {},
     "output_type": "display_data"
    }
   ],
   "source": [
    "deck"
   ]
  },
  {
   "cell_type": "code",
   "execution_count": 27,
   "metadata": {},
   "outputs": [
    {
     "data": {
      "text/html": [
       "<table>\n",
       "<thead><tr><th></th><th scope=col>face</th><th scope=col>suit</th><th scope=col>value</th></tr></thead>\n",
       "<tbody>\n",
       "\t<tr><th scope=row>2</th><td>queen </td><td>spades</td><td>12    </td></tr>\n",
       "\t<tr><th scope=row>3</th><td>jack  </td><td>spades</td><td>11    </td></tr>\n",
       "\t<tr><th scope=row>4</th><td>ten   </td><td>spades</td><td>10    </td></tr>\n",
       "</tbody>\n",
       "</table>\n"
      ],
      "text/latex": [
       "\\begin{tabular}{r|lll}\n",
       "  & face & suit & value\\\\\n",
       "\\hline\n",
       "\t2 & queen  & spades & 12    \\\\\n",
       "\t3 & jack   & spades & 11    \\\\\n",
       "\t4 & ten    & spades & 10    \\\\\n",
       "\\end{tabular}\n"
      ],
      "text/markdown": [
       "\n",
       "| <!--/--> | face | suit | value | \n",
       "|---|---|---|\n",
       "| 2 | queen  | spades | 12     | \n",
       "| 3 | jack   | spades | 11     | \n",
       "| 4 | ten    | spades | 10     | \n",
       "\n",
       "\n"
      ],
      "text/plain": [
       "  face  suit   value\n",
       "2 queen spades 12   \n",
       "3 jack  spades 11   \n",
       "4 ten   spades 10   "
      ]
     },
     "metadata": {},
     "output_type": "display_data"
    }
   ],
   "source": [
    "head(deck,3)"
   ]
  },
  {
   "cell_type": "code",
   "execution_count": 38,
   "metadata": {},
   "outputs": [],
   "source": [
    "deck <- read.csv(file=\"/usr/local/konfer/jupyterPro/RPro/deck.csv\",header=T,sep=\",\")"
   ]
  },
  {
   "cell_type": "code",
   "execution_count": 39,
   "metadata": {},
   "outputs": [],
   "source": [
    "deal <- function(){\n",
    "    card <- deck[1,]\n",
    "    deck <- deck[1,]\n",
    "    card\n",
    "}"
   ]
  },
  {
   "cell_type": "code",
   "execution_count": 40,
   "metadata": {},
   "outputs": [
    {
     "data": {
      "text/html": [
       "<table>\n",
       "<thead><tr><th scope=col>face</th><th scope=col>suit</th><th scope=col>value</th></tr></thead>\n",
       "<tbody>\n",
       "\t<tr><td>king  </td><td>spades</td><td>13    </td></tr>\n",
       "</tbody>\n",
       "</table>\n"
      ],
      "text/latex": [
       "\\begin{tabular}{r|lll}\n",
       " face & suit & value\\\\\n",
       "\\hline\n",
       "\t king   & spades & 13    \\\\\n",
       "\\end{tabular}\n"
      ],
      "text/markdown": [
       "\n",
       "face | suit | value | \n",
       "|---|\n",
       "| king   | spades | 13     | \n",
       "\n",
       "\n"
      ],
      "text/plain": [
       "  face suit   value\n",
       "1 king spades 13   "
      ]
     },
     "metadata": {},
     "output_type": "display_data"
    }
   ],
   "source": [
    "deal()"
   ]
  },
  {
   "cell_type": "code",
   "execution_count": 37,
   "metadata": {},
   "outputs": [
    {
     "data": {
      "text/html": [
       "<table>\n",
       "<thead><tr><th scope=col>face</th><th scope=col>suit</th><th scope=col>value</th></tr></thead>\n",
       "<tbody>\n",
       "\t<tr><td>king    </td><td>spades  </td><td>13      </td></tr>\n",
       "\t<tr><td>queen   </td><td>spades  </td><td>12      </td></tr>\n",
       "\t<tr><td>jack    </td><td>spades  </td><td>11      </td></tr>\n",
       "\t<tr><td>ten     </td><td>spades  </td><td>10      </td></tr>\n",
       "\t<tr><td>nine    </td><td>spades  </td><td> 9      </td></tr>\n",
       "\t<tr><td>eight   </td><td>spades  </td><td> 8      </td></tr>\n",
       "\t<tr><td>seven   </td><td>spades  </td><td> 7      </td></tr>\n",
       "\t<tr><td>six     </td><td>spades  </td><td> 6      </td></tr>\n",
       "\t<tr><td>five    </td><td>spades  </td><td> 5      </td></tr>\n",
       "\t<tr><td>four    </td><td>spades  </td><td> 4      </td></tr>\n",
       "\t<tr><td>three   </td><td>spades  </td><td> 3      </td></tr>\n",
       "\t<tr><td>two     </td><td>spades  </td><td> 2      </td></tr>\n",
       "\t<tr><td>ace     </td><td>spades  </td><td> 1      </td></tr>\n",
       "\t<tr><td>king    </td><td>clubs   </td><td>13      </td></tr>\n",
       "\t<tr><td>queen   </td><td>clubs   </td><td>12      </td></tr>\n",
       "\t<tr><td>jack    </td><td>clubs   </td><td>11      </td></tr>\n",
       "\t<tr><td>ten     </td><td>clubs   </td><td>10      </td></tr>\n",
       "\t<tr><td>nine    </td><td>clubs   </td><td> 9      </td></tr>\n",
       "\t<tr><td>eight   </td><td>clubs   </td><td> 8      </td></tr>\n",
       "\t<tr><td>seven   </td><td>clubs   </td><td> 7      </td></tr>\n",
       "\t<tr><td>six     </td><td>clubs   </td><td> 6      </td></tr>\n",
       "\t<tr><td>five    </td><td>clubs   </td><td> 5      </td></tr>\n",
       "\t<tr><td>four    </td><td>clubs   </td><td> 4      </td></tr>\n",
       "\t<tr><td>three   </td><td>clubs   </td><td> 3      </td></tr>\n",
       "\t<tr><td>two     </td><td>clubs   </td><td> 2      </td></tr>\n",
       "\t<tr><td>ace     </td><td>clubs   </td><td> 1      </td></tr>\n",
       "\t<tr><td>king    </td><td>diamonds</td><td>13      </td></tr>\n",
       "\t<tr><td>queen   </td><td>diamonds</td><td>12      </td></tr>\n",
       "\t<tr><td>jack    </td><td>diamonds</td><td>11      </td></tr>\n",
       "\t<tr><td>ten     </td><td>diamonds</td><td>10      </td></tr>\n",
       "\t<tr><td>nine    </td><td>diamonds</td><td> 9      </td></tr>\n",
       "\t<tr><td>eight   </td><td>diamonds</td><td> 8      </td></tr>\n",
       "\t<tr><td>seven   </td><td>diamonds</td><td> 7      </td></tr>\n",
       "\t<tr><td>six     </td><td>diamonds</td><td> 6      </td></tr>\n",
       "\t<tr><td>five    </td><td>diamonds</td><td> 5      </td></tr>\n",
       "\t<tr><td>four    </td><td>diamonds</td><td> 4      </td></tr>\n",
       "\t<tr><td>three   </td><td>diamonds</td><td> 3      </td></tr>\n",
       "\t<tr><td>two     </td><td>diamonds</td><td> 2      </td></tr>\n",
       "\t<tr><td>ace     </td><td>diamonds</td><td> 1      </td></tr>\n",
       "\t<tr><td>king    </td><td>hearts  </td><td>13      </td></tr>\n",
       "\t<tr><td>queen   </td><td>hearts  </td><td>12      </td></tr>\n",
       "\t<tr><td>jack    </td><td>hearts  </td><td>11      </td></tr>\n",
       "\t<tr><td>ten     </td><td>hearts  </td><td>10      </td></tr>\n",
       "\t<tr><td>nine    </td><td>hearts  </td><td> 9      </td></tr>\n",
       "\t<tr><td>eight   </td><td>hearts  </td><td> 8      </td></tr>\n",
       "\t<tr><td>seven   </td><td>hearts  </td><td> 7      </td></tr>\n",
       "\t<tr><td>six     </td><td>hearts  </td><td> 6      </td></tr>\n",
       "\t<tr><td>five    </td><td>hearts  </td><td> 5      </td></tr>\n",
       "\t<tr><td>four    </td><td>hearts  </td><td> 4      </td></tr>\n",
       "\t<tr><td>three   </td><td>hearts  </td><td> 3      </td></tr>\n",
       "\t<tr><td>two     </td><td>hearts  </td><td> 2      </td></tr>\n",
       "\t<tr><td>ace     </td><td>hearts  </td><td> 1      </td></tr>\n",
       "</tbody>\n",
       "</table>\n"
      ],
      "text/latex": [
       "\\begin{tabular}{r|lll}\n",
       " face & suit & value\\\\\n",
       "\\hline\n",
       "\t king     & spades   & 13      \\\\\n",
       "\t queen    & spades   & 12      \\\\\n",
       "\t jack     & spades   & 11      \\\\\n",
       "\t ten      & spades   & 10      \\\\\n",
       "\t nine     & spades   &  9      \\\\\n",
       "\t eight    & spades   &  8      \\\\\n",
       "\t seven    & spades   &  7      \\\\\n",
       "\t six      & spades   &  6      \\\\\n",
       "\t five     & spades   &  5      \\\\\n",
       "\t four     & spades   &  4      \\\\\n",
       "\t three    & spades   &  3      \\\\\n",
       "\t two      & spades   &  2      \\\\\n",
       "\t ace      & spades   &  1      \\\\\n",
       "\t king     & clubs    & 13      \\\\\n",
       "\t queen    & clubs    & 12      \\\\\n",
       "\t jack     & clubs    & 11      \\\\\n",
       "\t ten      & clubs    & 10      \\\\\n",
       "\t nine     & clubs    &  9      \\\\\n",
       "\t eight    & clubs    &  8      \\\\\n",
       "\t seven    & clubs    &  7      \\\\\n",
       "\t six      & clubs    &  6      \\\\\n",
       "\t five     & clubs    &  5      \\\\\n",
       "\t four     & clubs    &  4      \\\\\n",
       "\t three    & clubs    &  3      \\\\\n",
       "\t two      & clubs    &  2      \\\\\n",
       "\t ace      & clubs    &  1      \\\\\n",
       "\t king     & diamonds & 13      \\\\\n",
       "\t queen    & diamonds & 12      \\\\\n",
       "\t jack     & diamonds & 11      \\\\\n",
       "\t ten      & diamonds & 10      \\\\\n",
       "\t nine     & diamonds &  9      \\\\\n",
       "\t eight    & diamonds &  8      \\\\\n",
       "\t seven    & diamonds &  7      \\\\\n",
       "\t six      & diamonds &  6      \\\\\n",
       "\t five     & diamonds &  5      \\\\\n",
       "\t four     & diamonds &  4      \\\\\n",
       "\t three    & diamonds &  3      \\\\\n",
       "\t two      & diamonds &  2      \\\\\n",
       "\t ace      & diamonds &  1      \\\\\n",
       "\t king     & hearts   & 13      \\\\\n",
       "\t queen    & hearts   & 12      \\\\\n",
       "\t jack     & hearts   & 11      \\\\\n",
       "\t ten      & hearts   & 10      \\\\\n",
       "\t nine     & hearts   &  9      \\\\\n",
       "\t eight    & hearts   &  8      \\\\\n",
       "\t seven    & hearts   &  7      \\\\\n",
       "\t six      & hearts   &  6      \\\\\n",
       "\t five     & hearts   &  5      \\\\\n",
       "\t four     & hearts   &  4      \\\\\n",
       "\t three    & hearts   &  3      \\\\\n",
       "\t two      & hearts   &  2      \\\\\n",
       "\t ace      & hearts   &  1      \\\\\n",
       "\\end{tabular}\n"
      ],
      "text/markdown": [
       "\n",
       "face | suit | value | \n",
       "|---|---|---|---|---|---|---|---|---|---|---|---|---|---|---|---|---|---|---|---|---|---|---|---|---|---|---|---|---|---|---|---|---|---|---|---|---|---|---|---|---|---|---|---|---|---|---|---|---|---|---|---|\n",
       "| king     | spades   | 13       | \n",
       "| queen    | spades   | 12       | \n",
       "| jack     | spades   | 11       | \n",
       "| ten      | spades   | 10       | \n",
       "| nine     | spades   |  9       | \n",
       "| eight    | spades   |  8       | \n",
       "| seven    | spades   |  7       | \n",
       "| six      | spades   |  6       | \n",
       "| five     | spades   |  5       | \n",
       "| four     | spades   |  4       | \n",
       "| three    | spades   |  3       | \n",
       "| two      | spades   |  2       | \n",
       "| ace      | spades   |  1       | \n",
       "| king     | clubs    | 13       | \n",
       "| queen    | clubs    | 12       | \n",
       "| jack     | clubs    | 11       | \n",
       "| ten      | clubs    | 10       | \n",
       "| nine     | clubs    |  9       | \n",
       "| eight    | clubs    |  8       | \n",
       "| seven    | clubs    |  7       | \n",
       "| six      | clubs    |  6       | \n",
       "| five     | clubs    |  5       | \n",
       "| four     | clubs    |  4       | \n",
       "| three    | clubs    |  3       | \n",
       "| two      | clubs    |  2       | \n",
       "| ace      | clubs    |  1       | \n",
       "| king     | diamonds | 13       | \n",
       "| queen    | diamonds | 12       | \n",
       "| jack     | diamonds | 11       | \n",
       "| ten      | diamonds | 10       | \n",
       "| nine     | diamonds |  9       | \n",
       "| eight    | diamonds |  8       | \n",
       "| seven    | diamonds |  7       | \n",
       "| six      | diamonds |  6       | \n",
       "| five     | diamonds |  5       | \n",
       "| four     | diamonds |  4       | \n",
       "| three    | diamonds |  3       | \n",
       "| two      | diamonds |  2       | \n",
       "| ace      | diamonds |  1       | \n",
       "| king     | hearts   | 13       | \n",
       "| queen    | hearts   | 12       | \n",
       "| jack     | hearts   | 11       | \n",
       "| ten      | hearts   | 10       | \n",
       "| nine     | hearts   |  9       | \n",
       "| eight    | hearts   |  8       | \n",
       "| seven    | hearts   |  7       | \n",
       "| six      | hearts   |  6       | \n",
       "| five     | hearts   |  5       | \n",
       "| four     | hearts   |  4       | \n",
       "| three    | hearts   |  3       | \n",
       "| two      | hearts   |  2       | \n",
       "| ace      | hearts   |  1       | \n",
       "\n",
       "\n"
      ],
      "text/plain": [
       "   face  suit     value\n",
       "1  king  spades   13   \n",
       "2  queen spades   12   \n",
       "3  jack  spades   11   \n",
       "4  ten   spades   10   \n",
       "5  nine  spades    9   \n",
       "6  eight spades    8   \n",
       "7  seven spades    7   \n",
       "8  six   spades    6   \n",
       "9  five  spades    5   \n",
       "10 four  spades    4   \n",
       "11 three spades    3   \n",
       "12 two   spades    2   \n",
       "13 ace   spades    1   \n",
       "14 king  clubs    13   \n",
       "15 queen clubs    12   \n",
       "16 jack  clubs    11   \n",
       "17 ten   clubs    10   \n",
       "18 nine  clubs     9   \n",
       "19 eight clubs     8   \n",
       "20 seven clubs     7   \n",
       "21 six   clubs     6   \n",
       "22 five  clubs     5   \n",
       "23 four  clubs     4   \n",
       "24 three clubs     3   \n",
       "25 two   clubs     2   \n",
       "26 ace   clubs     1   \n",
       "27 king  diamonds 13   \n",
       "28 queen diamonds 12   \n",
       "29 jack  diamonds 11   \n",
       "30 ten   diamonds 10   \n",
       "31 nine  diamonds  9   \n",
       "32 eight diamonds  8   \n",
       "33 seven diamonds  7   \n",
       "34 six   diamonds  6   \n",
       "35 five  diamonds  5   \n",
       "36 four  diamonds  4   \n",
       "37 three diamonds  3   \n",
       "38 two   diamonds  2   \n",
       "39 ace   diamonds  1   \n",
       "40 king  hearts   13   \n",
       "41 queen hearts   12   \n",
       "42 jack  hearts   11   \n",
       "43 ten   hearts   10   \n",
       "44 nine  hearts    9   \n",
       "45 eight hearts    8   \n",
       "46 seven hearts    7   \n",
       "47 six   hearts    6   \n",
       "48 five  hearts    5   \n",
       "49 four  hearts    4   \n",
       "50 three hearts    3   \n",
       "51 two   hearts    2   \n",
       "52 ace   hearts    1   "
      ]
     },
     "metadata": {},
     "output_type": "display_data"
    }
   ],
   "source": [
    "deck"
   ]
  },
  {
   "cell_type": "code",
   "execution_count": 41,
   "metadata": {},
   "outputs": [],
   "source": [
    "dealAssign <- function(){\n",
    "    card <- deck[1,]\n",
    "    assign(\"deck\",deck[-1,],envir=globalenv())\n",
    "    card\n",
    "}"
   ]
  },
  {
   "cell_type": "code",
   "execution_count": 42,
   "metadata": {},
   "outputs": [
    {
     "data": {
      "text/html": [
       "<table>\n",
       "<thead><tr><th scope=col>face</th><th scope=col>suit</th><th scope=col>value</th></tr></thead>\n",
       "<tbody>\n",
       "\t<tr><td>king  </td><td>spades</td><td>13    </td></tr>\n",
       "</tbody>\n",
       "</table>\n"
      ],
      "text/latex": [
       "\\begin{tabular}{r|lll}\n",
       " face & suit & value\\\\\n",
       "\\hline\n",
       "\t king   & spades & 13    \\\\\n",
       "\\end{tabular}\n"
      ],
      "text/markdown": [
       "\n",
       "face | suit | value | \n",
       "|---|\n",
       "| king   | spades | 13     | \n",
       "\n",
       "\n"
      ],
      "text/plain": [
       "  face suit   value\n",
       "1 king spades 13   "
      ]
     },
     "metadata": {},
     "output_type": "display_data"
    }
   ],
   "source": [
    "deal()"
   ]
  },
  {
   "cell_type": "code",
   "execution_count": 43,
   "metadata": {},
   "outputs": [
    {
     "data": {
      "text/html": [
       "<table>\n",
       "<thead><tr><th scope=col>face</th><th scope=col>suit</th><th scope=col>value</th></tr></thead>\n",
       "<tbody>\n",
       "\t<tr><td>king  </td><td>spades</td><td>13    </td></tr>\n",
       "</tbody>\n",
       "</table>\n"
      ],
      "text/latex": [
       "\\begin{tabular}{r|lll}\n",
       " face & suit & value\\\\\n",
       "\\hline\n",
       "\t king   & spades & 13    \\\\\n",
       "\\end{tabular}\n"
      ],
      "text/markdown": [
       "\n",
       "face | suit | value | \n",
       "|---|\n",
       "| king   | spades | 13     | \n",
       "\n",
       "\n"
      ],
      "text/plain": [
       "  face suit   value\n",
       "1 king spades 13   "
      ]
     },
     "metadata": {},
     "output_type": "display_data"
    }
   ],
   "source": [
    "deal()"
   ]
  },
  {
   "cell_type": "code",
   "execution_count": 44,
   "metadata": {},
   "outputs": [
    {
     "data": {
      "text/html": [
       "<table>\n",
       "<thead><tr><th scope=col>face</th><th scope=col>suit</th><th scope=col>value</th></tr></thead>\n",
       "<tbody>\n",
       "\t<tr><td>king  </td><td>spades</td><td>13    </td></tr>\n",
       "</tbody>\n",
       "</table>\n"
      ],
      "text/latex": [
       "\\begin{tabular}{r|lll}\n",
       " face & suit & value\\\\\n",
       "\\hline\n",
       "\t king   & spades & 13    \\\\\n",
       "\\end{tabular}\n"
      ],
      "text/markdown": [
       "\n",
       "face | suit | value | \n",
       "|---|\n",
       "| king   | spades | 13     | \n",
       "\n",
       "\n"
      ],
      "text/plain": [
       "  face suit   value\n",
       "1 king spades 13   "
      ]
     },
     "metadata": {},
     "output_type": "display_data"
    }
   ],
   "source": [
    "dealAssign()"
   ]
  },
  {
   "cell_type": "code",
   "execution_count": 45,
   "metadata": {},
   "outputs": [
    {
     "data": {
      "text/html": [
       "<table>\n",
       "<thead><tr><th></th><th scope=col>face</th><th scope=col>suit</th><th scope=col>value</th></tr></thead>\n",
       "<tbody>\n",
       "\t<tr><th scope=row>2</th><td>queen </td><td>spades</td><td>12    </td></tr>\n",
       "</tbody>\n",
       "</table>\n"
      ],
      "text/latex": [
       "\\begin{tabular}{r|lll}\n",
       "  & face & suit & value\\\\\n",
       "\\hline\n",
       "\t2 & queen  & spades & 12    \\\\\n",
       "\\end{tabular}\n"
      ],
      "text/markdown": [
       "\n",
       "| <!--/--> | face | suit | value | \n",
       "|---|\n",
       "| 2 | queen  | spades | 12     | \n",
       "\n",
       "\n"
      ],
      "text/plain": [
       "  face  suit   value\n",
       "2 queen spades 12   "
      ]
     },
     "metadata": {},
     "output_type": "display_data"
    }
   ],
   "source": [
    "dealAssign()"
   ]
  },
  {
   "cell_type": "code",
   "execution_count": 46,
   "metadata": {},
   "outputs": [
    {
     "data": {
      "text/html": [
       "<table>\n",
       "<thead><tr><th></th><th scope=col>face</th><th scope=col>suit</th><th scope=col>value</th></tr></thead>\n",
       "<tbody>\n",
       "\t<tr><th scope=row>3</th><td>jack  </td><td>spades</td><td>11    </td></tr>\n",
       "</tbody>\n",
       "</table>\n"
      ],
      "text/latex": [
       "\\begin{tabular}{r|lll}\n",
       "  & face & suit & value\\\\\n",
       "\\hline\n",
       "\t3 & jack   & spades & 11    \\\\\n",
       "\\end{tabular}\n"
      ],
      "text/markdown": [
       "\n",
       "| <!--/--> | face | suit | value | \n",
       "|---|\n",
       "| 3 | jack   | spades | 11     | \n",
       "\n",
       "\n"
      ],
      "text/plain": [
       "  face suit   value\n",
       "3 jack spades 11   "
      ]
     },
     "metadata": {},
     "output_type": "display_data"
    }
   ],
   "source": [
    "dealAssign()"
   ]
  },
  {
   "cell_type": "code",
   "execution_count": 47,
   "metadata": {},
   "outputs": [
    {
     "data": {
      "text/html": [
       "<table>\n",
       "<thead><tr><th></th><th scope=col>face</th><th scope=col>suit</th><th scope=col>value</th></tr></thead>\n",
       "<tbody>\n",
       "\t<tr><th scope=row>4</th><td>ten   </td><td>spades</td><td>10    </td></tr>\n",
       "</tbody>\n",
       "</table>\n"
      ],
      "text/latex": [
       "\\begin{tabular}{r|lll}\n",
       "  & face & suit & value\\\\\n",
       "\\hline\n",
       "\t4 & ten    & spades & 10    \\\\\n",
       "\\end{tabular}\n"
      ],
      "text/markdown": [
       "\n",
       "| <!--/--> | face | suit | value | \n",
       "|---|\n",
       "| 4 | ten    | spades | 10     | \n",
       "\n",
       "\n"
      ],
      "text/plain": [
       "  face suit   value\n",
       "4 ten  spades 10   "
      ]
     },
     "metadata": {},
     "output_type": "display_data"
    }
   ],
   "source": [
    "dealAssign()"
   ]
  },
  {
   "cell_type": "code",
   "execution_count": 62,
   "metadata": {},
   "outputs": [],
   "source": [
    "shuffleAssign <- function(){\n",
    "    random <- sample(1:52,size=52)\n",
    "    assign(\"deck\",DECK[random, ],envir=globalenv())\n",
    "    head(deck,5)\n",
    "}"
   ]
  },
  {
   "cell_type": "code",
   "execution_count": 63,
   "metadata": {},
   "outputs": [
    {
     "data": {
      "text/html": [
       "<table>\n",
       "<thead><tr><th></th><th scope=col>face</th><th scope=col>suit</th><th scope=col>value</th></tr></thead>\n",
       "<tbody>\n",
       "\t<tr><th scope=row>45</th><td>eight   </td><td>hearts  </td><td> 8      </td></tr>\n",
       "\t<tr><th scope=row>14</th><td>king    </td><td>clubs   </td><td>13      </td></tr>\n",
       "\t<tr><th scope=row>38</th><td>two     </td><td>diamonds</td><td> 2      </td></tr>\n",
       "</tbody>\n",
       "</table>\n"
      ],
      "text/latex": [
       "\\begin{tabular}{r|lll}\n",
       "  & face & suit & value\\\\\n",
       "\\hline\n",
       "\t45 & eight    & hearts   &  8      \\\\\n",
       "\t14 & king     & clubs    & 13      \\\\\n",
       "\t38 & two      & diamonds &  2      \\\\\n",
       "\\end{tabular}\n"
      ],
      "text/markdown": [
       "\n",
       "| <!--/--> | face | suit | value | \n",
       "|---|---|---|\n",
       "| 45 | eight    | hearts   |  8       | \n",
       "| 14 | king     | clubs    | 13       | \n",
       "| 38 | two      | diamonds |  2       | \n",
       "\n",
       "\n"
      ],
      "text/plain": [
       "   face  suit     value\n",
       "45 eight hearts    8   \n",
       "14 king  clubs    13   \n",
       "38 two   diamonds  2   "
      ]
     },
     "metadata": {},
     "output_type": "display_data"
    }
   ],
   "source": [
    "head(deck,3)"
   ]
  },
  {
   "cell_type": "code",
   "execution_count": 64,
   "metadata": {},
   "outputs": [
    {
     "data": {
      "text/html": [
       "<table>\n",
       "<thead><tr><th></th><th scope=col>face</th><th scope=col>suit</th><th scope=col>value</th></tr></thead>\n",
       "<tbody>\n",
       "\t<tr><th scope=row>38</th><td>two     </td><td>diamonds</td><td> 2      </td></tr>\n",
       "\t<tr><th scope=row>47</th><td>six     </td><td>hearts  </td><td> 6      </td></tr>\n",
       "\t<tr><th scope=row>30</th><td>ten     </td><td>diamonds</td><td>10      </td></tr>\n",
       "\t<tr><th scope=row>29</th><td>jack    </td><td>diamonds</td><td>11      </td></tr>\n",
       "\t<tr><th scope=row>21</th><td>six     </td><td>clubs   </td><td> 6      </td></tr>\n",
       "</tbody>\n",
       "</table>\n"
      ],
      "text/latex": [
       "\\begin{tabular}{r|lll}\n",
       "  & face & suit & value\\\\\n",
       "\\hline\n",
       "\t38 & two      & diamonds &  2      \\\\\n",
       "\t47 & six      & hearts   &  6      \\\\\n",
       "\t30 & ten      & diamonds & 10      \\\\\n",
       "\t29 & jack     & diamonds & 11      \\\\\n",
       "\t21 & six      & clubs    &  6      \\\\\n",
       "\\end{tabular}\n"
      ],
      "text/markdown": [
       "\n",
       "| <!--/--> | face | suit | value | \n",
       "|---|---|---|---|---|\n",
       "| 38 | two      | diamonds |  2       | \n",
       "| 47 | six      | hearts   |  6       | \n",
       "| 30 | ten      | diamonds | 10       | \n",
       "| 29 | jack     | diamonds | 11       | \n",
       "| 21 | six      | clubs    |  6       | \n",
       "\n",
       "\n"
      ],
      "text/plain": [
       "   face suit     value\n",
       "38 two  diamonds  2   \n",
       "47 six  hearts    6   \n",
       "30 ten  diamonds 10   \n",
       "29 jack diamonds 11   \n",
       "21 six  clubs     6   "
      ]
     },
     "metadata": {},
     "output_type": "display_data"
    }
   ],
   "source": [
    "shuffleAssign()"
   ]
  },
  {
   "cell_type": "code",
   "execution_count": 65,
   "metadata": {},
   "outputs": [
    {
     "data": {
      "text/html": [
       "<table>\n",
       "<thead><tr><th></th><th scope=col>face</th><th scope=col>suit</th><th scope=col>value</th></tr></thead>\n",
       "<tbody>\n",
       "\t<tr><th scope=row>40</th><td>king    </td><td>hearts  </td><td>13      </td></tr>\n",
       "\t<tr><th scope=row>51</th><td>two     </td><td>hearts  </td><td> 2      </td></tr>\n",
       "\t<tr><th scope=row>3</th><td>jack    </td><td>spades  </td><td>11      </td></tr>\n",
       "\t<tr><th scope=row>31</th><td>nine    </td><td>diamonds</td><td> 9      </td></tr>\n",
       "\t<tr><th scope=row>36</th><td>four    </td><td>diamonds</td><td> 4      </td></tr>\n",
       "</tbody>\n",
       "</table>\n"
      ],
      "text/latex": [
       "\\begin{tabular}{r|lll}\n",
       "  & face & suit & value\\\\\n",
       "\\hline\n",
       "\t40 & king     & hearts   & 13      \\\\\n",
       "\t51 & two      & hearts   &  2      \\\\\n",
       "\t3 & jack     & spades   & 11      \\\\\n",
       "\t31 & nine     & diamonds &  9      \\\\\n",
       "\t36 & four     & diamonds &  4      \\\\\n",
       "\\end{tabular}\n"
      ],
      "text/markdown": [
       "\n",
       "| <!--/--> | face | suit | value | \n",
       "|---|---|---|---|---|\n",
       "| 40 | king     | hearts   | 13       | \n",
       "| 51 | two      | hearts   |  2       | \n",
       "| 3 | jack     | spades   | 11       | \n",
       "| 31 | nine     | diamonds |  9       | \n",
       "| 36 | four     | diamonds |  4       | \n",
       "\n",
       "\n"
      ],
      "text/plain": [
       "   face suit     value\n",
       "40 king hearts   13   \n",
       "51 two  hearts    2   \n",
       "3  jack spades   11   \n",
       "31 nine diamonds  9   \n",
       "36 four diamonds  4   "
      ]
     },
     "metadata": {},
     "output_type": "display_data"
    }
   ],
   "source": [
    "shuffleAssign()"
   ]
  },
  {
   "cell_type": "code",
   "execution_count": 66,
   "metadata": {},
   "outputs": [
    {
     "data": {
      "text/html": [
       "<table>\n",
       "<thead><tr><th></th><th scope=col>face</th><th scope=col>suit</th><th scope=col>value</th></tr></thead>\n",
       "<tbody>\n",
       "\t<tr><th scope=row>51</th><td>two     </td><td>hearts  </td><td>2       </td></tr>\n",
       "\t<tr><th scope=row>48</th><td>five    </td><td>hearts  </td><td>5       </td></tr>\n",
       "\t<tr><th scope=row>33</th><td>seven   </td><td>diamonds</td><td>7       </td></tr>\n",
       "\t<tr><th scope=row>10</th><td>four    </td><td>spades  </td><td>4       </td></tr>\n",
       "\t<tr><th scope=row>39</th><td>ace     </td><td>diamonds</td><td>1       </td></tr>\n",
       "</tbody>\n",
       "</table>\n"
      ],
      "text/latex": [
       "\\begin{tabular}{r|lll}\n",
       "  & face & suit & value\\\\\n",
       "\\hline\n",
       "\t51 & two      & hearts   & 2       \\\\\n",
       "\t48 & five     & hearts   & 5       \\\\\n",
       "\t33 & seven    & diamonds & 7       \\\\\n",
       "\t10 & four     & spades   & 4       \\\\\n",
       "\t39 & ace      & diamonds & 1       \\\\\n",
       "\\end{tabular}\n"
      ],
      "text/markdown": [
       "\n",
       "| <!--/--> | face | suit | value | \n",
       "|---|---|---|---|---|\n",
       "| 51 | two      | hearts   | 2        | \n",
       "| 48 | five     | hearts   | 5        | \n",
       "| 33 | seven    | diamonds | 7        | \n",
       "| 10 | four     | spades   | 4        | \n",
       "| 39 | ace      | diamonds | 1        | \n",
       "\n",
       "\n"
      ],
      "text/plain": [
       "   face  suit     value\n",
       "51 two   hearts   2    \n",
       "48 five  hearts   5    \n",
       "33 seven diamonds 7    \n",
       "10 four  spades   4    \n",
       "39 ace   diamonds 1    "
      ]
     },
     "metadata": {},
     "output_type": "display_data"
    }
   ],
   "source": [
    "shuffleAssign()"
   ]
  },
  {
   "cell_type": "markdown",
   "metadata": {},
   "source": [
    "### closure"
   ]
  },
  {
   "cell_type": "code",
   "execution_count": null,
   "metadata": {},
   "outputs": [],
   "source": [
    "setup <- function(deck){\n",
    "    DECK <- deck\n",
    "    deal\n",
    "}"
   ]
  }
 ],
 "metadata": {
  "kernelspec": {
   "display_name": "R",
   "language": "R",
   "name": "ir"
  },
  "language_info": {
   "codemirror_mode": "r",
   "file_extension": ".r",
   "mimetype": "text/x-r-source",
   "name": "R",
   "pygments_lexer": "r",
   "version": "3.2.3"
  }
 },
 "nbformat": 4,
 "nbformat_minor": 2
}
