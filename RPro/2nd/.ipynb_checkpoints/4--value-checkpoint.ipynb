{
 "cells": [
  {
   "cell_type": "code",
   "execution_count": 19,
   "metadata": {},
   "outputs": [],
   "source": [
    "deck <- read.csv(\"/usr/local/codePro/jupyter-bd/RPro/deck.csv\")"
   ]
  },
  {
   "cell_type": "code",
   "execution_count": 20,
   "metadata": {
    "scrolled": true
   },
   "outputs": [
    {
     "data": {
      "text/html": [
       "<table>\n",
       "<caption>A data.frame: 6 × 3</caption>\n",
       "<thead>\n",
       "\t<tr><th scope=col>face</th><th scope=col>suit</th><th scope=col>value</th></tr>\n",
       "\t<tr><th scope=col>&lt;fct&gt;</th><th scope=col>&lt;fct&gt;</th><th scope=col>&lt;int&gt;</th></tr>\n",
       "</thead>\n",
       "<tbody>\n",
       "\t<tr><td>king </td><td>spades</td><td>13</td></tr>\n",
       "\t<tr><td>queen</td><td>spades</td><td>12</td></tr>\n",
       "\t<tr><td>jack </td><td>spades</td><td>11</td></tr>\n",
       "\t<tr><td>ten  </td><td>spades</td><td>10</td></tr>\n",
       "\t<tr><td>nine </td><td>spades</td><td> 9</td></tr>\n",
       "\t<tr><td>eight</td><td>spades</td><td> 8</td></tr>\n",
       "</tbody>\n",
       "</table>\n"
      ],
      "text/latex": [
       "A data.frame: 6 × 3\n",
       "\\begin{tabular}{r|lll}\n",
       " face & suit & value\\\\\n",
       " <fct> & <fct> & <int>\\\\\n",
       "\\hline\n",
       "\t king  & spades & 13\\\\\n",
       "\t queen & spades & 12\\\\\n",
       "\t jack  & spades & 11\\\\\n",
       "\t ten   & spades & 10\\\\\n",
       "\t nine  & spades &  9\\\\\n",
       "\t eight & spades &  8\\\\\n",
       "\\end{tabular}\n"
      ],
      "text/markdown": [
       "\n",
       "A data.frame: 6 × 3\n",
       "\n",
       "| face &lt;fct&gt; | suit &lt;fct&gt; | value &lt;int&gt; |\n",
       "|---|---|---|\n",
       "| king  | spades | 13 |\n",
       "| queen | spades | 12 |\n",
       "| jack  | spades | 11 |\n",
       "| ten   | spades | 10 |\n",
       "| nine  | spades |  9 |\n",
       "| eight | spades |  8 |\n",
       "\n"
      ],
      "text/plain": [
       "  face  suit   value\n",
       "1 king  spades 13   \n",
       "2 queen spades 12   \n",
       "3 jack  spades 11   \n",
       "4 ten   spades 10   \n",
       "5 nine  spades  9   \n",
       "6 eight spades  8   "
      ]
     },
     "metadata": {},
     "output_type": "display_data"
    }
   ],
   "source": [
    "head(deck)"
   ]
  },
  {
   "cell_type": "code",
   "execution_count": 16,
   "metadata": {},
   "outputs": [],
   "source": [
    "?read.csv"
   ]
  },
  {
   "cell_type": "code",
   "execution_count": null,
   "metadata": {},
   "outputs": [],
   "source": []
  }
 ],
 "metadata": {
  "kernelspec": {
   "display_name": "R",
   "language": "R",
   "name": "ir"
  },
  "language_info": {
   "codemirror_mode": "r",
   "file_extension": ".r",
   "mimetype": "text/x-r-source",
   "name": "R",
   "pygments_lexer": "r",
   "version": "3.6.1"
  }
 },
 "nbformat": 4,
 "nbformat_minor": 2
}
