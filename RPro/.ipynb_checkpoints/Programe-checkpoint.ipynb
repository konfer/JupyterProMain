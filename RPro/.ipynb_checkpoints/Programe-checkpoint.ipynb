{
 "cells": [
  {
   "cell_type": "code",
   "execution_count": 1,
   "metadata": {},
   "outputs": [],
   "source": [
    "get_symbols <- function(){\n",
    "    wheel <- c(\"DD\",\"7\",\"BBB\",\"BB\",\"B\",\"C\",\"0\")\n",
    "    sample(wheel,size=3,replace=TRUE,prob=c(0.03,0.03,0.06,0.1,0.25,0.01,0.52))\n",
    "}"
   ]
  },
  {
   "cell_type": "code",
   "execution_count": 2,
   "metadata": {
    "scrolled": true
   },
   "outputs": [
    {
     "data": {
      "text/html": [
       "<ol class=list-inline>\n",
       "\t<li>'BB'</li>\n",
       "\t<li>'DD'</li>\n",
       "\t<li>'0'</li>\n",
       "</ol>\n"
      ],
      "text/latex": [
       "\\begin{enumerate*}\n",
       "\\item 'BB'\n",
       "\\item 'DD'\n",
       "\\item '0'\n",
       "\\end{enumerate*}\n"
      ],
      "text/markdown": [
       "1. 'BB'\n",
       "2. 'DD'\n",
       "3. '0'\n",
       "\n",
       "\n"
      ],
      "text/plain": [
       "[1] \"BB\" \"DD\" \"0\" "
      ]
     },
     "metadata": {},
     "output_type": "display_data"
    }
   ],
   "source": [
    "get_symbols()"
   ]
  },
  {
   "cell_type": "code",
   "execution_count": 3,
   "metadata": {},
   "outputs": [
    {
     "data": {
      "text/html": [
       "<table>\n",
       "<tbody>\n",
       "\t<tr><td>0</td><td>B</td><td>B</td></tr>\n",
       "\t<tr><td>B</td><td>7</td><td>0</td></tr>\n",
       "\t<tr><td>0</td><td>0</td><td>B</td></tr>\n",
       "</tbody>\n",
       "</table>\n"
      ],
      "text/latex": [
       "\\begin{tabular}{lll}\n",
       "\t 0 & B & B\\\\\n",
       "\t B & 7 & 0\\\\\n",
       "\t 0 & 0 & B\\\\\n",
       "\\end{tabular}\n"
      ],
      "text/markdown": [
       "\n",
       "| 0 | B | B | \n",
       "| B | 7 | 0 | \n",
       "| 0 | 0 | B | \n",
       "\n",
       "\n"
      ],
      "text/plain": [
       "     [,1] [,2] [,3]\n",
       "[1,] 0    B    B   \n",
       "[2,] B    7    0   \n",
       "[3,] 0    0    B   "
      ]
     },
     "metadata": {},
     "output_type": "display_data"
    }
   ],
   "source": [
    "replicate(3,get_symbols())"
   ]
  },
  {
   "cell_type": "code",
   "execution_count": 4,
   "metadata": {},
   "outputs": [],
   "source": [
    "payouts <- c(\"DD\"=100,\"7\"=80,\"BBB\"=40,\"BB\"=25,\n",
    "             \"B\"=10,\"C\"=10,\"0\"=0)"
   ]
  },
  {
   "cell_type": "code",
   "execution_count": 6,
   "metadata": {},
   "outputs": [
    {
     "data": {
      "text/html": [
       "<dl class=dl-horizontal>\n",
       "\t<dt>DD</dt>\n",
       "\t\t<dd>100</dd>\n",
       "\t<dt>7</dt>\n",
       "\t\t<dd>80</dd>\n",
       "\t<dt>BBB</dt>\n",
       "\t\t<dd>40</dd>\n",
       "\t<dt>BB</dt>\n",
       "\t\t<dd>25</dd>\n",
       "\t<dt>B</dt>\n",
       "\t\t<dd>10</dd>\n",
       "\t<dt>C</dt>\n",
       "\t\t<dd>10</dd>\n",
       "\t<dt>0</dt>\n",
       "\t\t<dd>0</dd>\n",
       "</dl>\n"
      ],
      "text/latex": [
       "\\begin{description*}\n",
       "\\item[DD] 100\n",
       "\\item[7] 80\n",
       "\\item[BBB] 40\n",
       "\\item[BB] 25\n",
       "\\item[B] 10\n",
       "\\item[C] 10\n",
       "\\item[0] 0\n",
       "\\end{description*}\n"
      ],
      "text/markdown": [
       "DD\n",
       ":   1007\n",
       ":   80BBB\n",
       ":   40BB\n",
       ":   25B\n",
       ":   10C\n",
       ":   100\n",
       ":   0\n",
       "\n"
      ],
      "text/plain": [
       " DD   7 BBB  BB   B   C   0 \n",
       "100  80  40  25  10  10   0 "
      ]
     },
     "metadata": {},
     "output_type": "display_data"
    }
   ],
   "source": [
    "payouts"
   ]
  },
  {
   "cell_type": "code",
   "execution_count": 5,
   "metadata": {},
   "outputs": [],
   "source": [
    "play <- function(){\n",
    "    symbols <- get_symbols()\n",
    "    print(symbols)\n",
    "    score(symbols)\n",
    "}"
   ]
  }
 ],
 "metadata": {
  "kernelspec": {
   "display_name": "R",
   "language": "R",
   "name": "ir"
  },
  "language_info": {
   "codemirror_mode": "r",
   "file_extension": ".r",
   "mimetype": "text/x-r-source",
   "name": "R",
   "pygments_lexer": "r",
   "version": "3.2.3"
  }
 },
 "nbformat": 4,
 "nbformat_minor": 2
}
